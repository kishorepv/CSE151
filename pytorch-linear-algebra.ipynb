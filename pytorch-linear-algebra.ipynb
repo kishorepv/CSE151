{
 "cells": [
  {
   "cell_type": "code",
   "execution_count": 1,
   "metadata": {
    "ExecuteTime": {
     "end_time": "2019-10-10T05:40:07.737290Z",
     "start_time": "2019-10-10T05:40:07.545476Z"
    }
   },
   "outputs": [],
   "source": [
    "import torch # torch means pytorch"
   ]
  },
  {
   "cell_type": "code",
   "execution_count": 2,
   "metadata": {
    "ExecuteTime": {
     "end_time": "2019-10-10T05:40:07.743281Z",
     "start_time": "2019-10-10T05:40:07.738329Z"
    }
   },
   "outputs": [
    {
     "data": {
      "text/plain": [
       "'1.1.0'"
      ]
     },
     "execution_count": 2,
     "metadata": {},
     "output_type": "execute_result"
    }
   ],
   "source": [
    "torch.__version__ # tested on version 1.1.0"
   ]
  },
  {
   "cell_type": "code",
   "execution_count": 3,
   "metadata": {
    "ExecuteTime": {
     "end_time": "2019-10-10T05:40:07.752149Z",
     "start_time": "2019-10-10T05:40:07.743930Z"
    }
   },
   "outputs": [
    {
     "data": {
      "text/plain": [
       "<torch._C.Generator at 0x7f696e310bd0>"
      ]
     },
     "execution_count": 3,
     "metadata": {},
     "output_type": "execute_result"
    }
   ],
   "source": [
    "torch.manual_seed(42) # to get the same result everytime your run the notebook"
   ]
  },
  {
   "cell_type": "markdown",
   "metadata": {},
   "source": [
    "**create an array**"
   ]
  },
  {
   "cell_type": "code",
   "execution_count": 4,
   "metadata": {
    "ExecuteTime": {
     "end_time": "2019-10-10T05:40:07.756711Z",
     "start_time": "2019-10-10T05:40:07.753207Z"
    }
   },
   "outputs": [],
   "source": [
    "a=torch.randn(3,5) # random uniform array of size 3x5 (from normal distribution mean=0, std=1)"
   ]
  },
  {
   "cell_type": "code",
   "execution_count": 5,
   "metadata": {
    "ExecuteTime": {
     "end_time": "2019-10-10T05:40:07.763749Z",
     "start_time": "2019-10-10T05:40:07.757701Z"
    }
   },
   "outputs": [
    {
     "data": {
      "text/plain": [
       "tensor([[ 0.3367,  0.1288,  0.2345,  0.2303, -1.1229],\n",
       "        [-0.1863,  2.2082, -0.6380,  0.4617,  0.2674],\n",
       "        [ 0.5349,  0.8094,  1.1103, -1.6898, -0.9890]])"
      ]
     },
     "execution_count": 5,
     "metadata": {},
     "output_type": "execute_result"
    }
   ],
   "source": [
    "a"
   ]
  },
  {
   "cell_type": "code",
   "execution_count": 6,
   "metadata": {
    "ExecuteTime": {
     "end_time": "2019-10-10T05:40:07.767743Z",
     "start_time": "2019-10-10T05:40:07.764368Z"
    }
   },
   "outputs": [],
   "source": [
    "b=torch.randn(5,2)"
   ]
  },
  {
   "cell_type": "code",
   "execution_count": 7,
   "metadata": {
    "ExecuteTime": {
     "end_time": "2019-10-10T05:40:07.773551Z",
     "start_time": "2019-10-10T05:40:07.768446Z"
    }
   },
   "outputs": [
    {
     "data": {
      "text/plain": [
       "tensor([[ 0.9580,  1.3221],\n",
       "        [ 0.8172, -0.7658],\n",
       "        [-0.7506,  1.3525],\n",
       "        [ 0.6863, -0.3278],\n",
       "        [ 0.7950,  0.2815]])"
      ]
     },
     "execution_count": 7,
     "metadata": {},
     "output_type": "execute_result"
    }
   ],
   "source": [
    "b"
   ]
  },
  {
   "cell_type": "markdown",
   "metadata": {},
   "source": [
    "**matrix multplication**"
   ]
  },
  {
   "cell_type": "code",
   "execution_count": 8,
   "metadata": {
    "ExecuteTime": {
     "end_time": "2019-10-10T05:40:07.778380Z",
     "start_time": "2019-10-10T05:40:07.774187Z"
    }
   },
   "outputs": [],
   "source": [
    "ab=a@b # matrix multiplcation operator is @"
   ]
  },
  {
   "cell_type": "code",
   "execution_count": 9,
   "metadata": {
    "ExecuteTime": {
     "end_time": "2019-10-10T05:40:07.783958Z",
     "start_time": "2019-10-10T05:40:07.779170Z"
    }
   },
   "outputs": [
    {
     "data": {
      "text/plain": [
       "torch.Size([3, 2])"
      ]
     },
     "execution_count": 9,
     "metadata": {},
     "output_type": "execute_result"
    }
   ],
   "source": [
    "ab.shape # .shape gives the dimensions of the array/tensor"
   ]
  },
  {
   "cell_type": "code",
   "execution_count": 10,
   "metadata": {
    "ExecuteTime": {
     "end_time": "2019-10-10T05:40:07.791776Z",
     "start_time": "2019-10-10T05:40:07.784599Z"
    }
   },
   "outputs": [
    {
     "data": {
      "text/plain": [
       "tensor([[-0.4827,  0.2720],\n",
       "        [ 2.6343, -2.8764],\n",
       "        [-1.6055,  1.8645]])"
      ]
     },
     "execution_count": 10,
     "metadata": {},
     "output_type": "execute_result"
    }
   ],
   "source": [
    "ab"
   ]
  },
  {
   "cell_type": "code",
   "execution_count": 11,
   "metadata": {
    "ExecuteTime": {
     "end_time": "2019-10-10T05:40:07.796543Z",
     "start_time": "2019-10-10T05:40:07.792414Z"
    }
   },
   "outputs": [],
   "source": [
    "a=torch.randn(3,5)\n",
    "b=torch.randn(3,5)"
   ]
  },
  {
   "cell_type": "code",
   "execution_count": 12,
   "metadata": {
    "ExecuteTime": {
     "end_time": "2019-10-10T05:40:07.802323Z",
     "start_time": "2019-10-10T05:40:07.797293Z"
    }
   },
   "outputs": [
    {
     "data": {
      "text/plain": [
       "tensor([[ 0.0562,  0.5227, -0.2384, -0.0499,  0.5263],\n",
       "        [-0.0085,  0.7291,  0.1331,  0.8640, -1.0157],\n",
       "        [-0.8887,  0.1498, -0.2089, -0.3870,  0.9912]])"
      ]
     },
     "execution_count": 12,
     "metadata": {},
     "output_type": "execute_result"
    }
   ],
   "source": [
    "a"
   ]
  },
  {
   "cell_type": "code",
   "execution_count": 13,
   "metadata": {
    "ExecuteTime": {
     "end_time": "2019-10-10T05:40:07.807455Z",
     "start_time": "2019-10-10T05:40:07.803620Z"
    }
   },
   "outputs": [
    {
     "data": {
      "text/plain": [
       "tensor([[ 0.4679, -0.2049, -0.7409,  0.3618,  1.9199],\n",
       "        [-0.2254, -0.3417,  0.3040, -0.6890, -1.1267],\n",
       "        [-0.2858, -1.0935,  1.1351,  0.7592, -3.5945]])"
      ]
     },
     "execution_count": 13,
     "metadata": {},
     "output_type": "execute_result"
    }
   ],
   "source": [
    "b"
   ]
  },
  {
   "cell_type": "markdown",
   "metadata": {},
   "source": [
    "**element-wise product (fancy name: Hadamard product)**"
   ]
  },
  {
   "cell_type": "code",
   "execution_count": 14,
   "metadata": {
    "ExecuteTime": {
     "end_time": "2019-10-10T05:40:07.812693Z",
     "start_time": "2019-10-10T05:40:07.808517Z"
    }
   },
   "outputs": [
    {
     "data": {
      "text/plain": [
       "tensor([[ 2.6279e-02, -1.0712e-01,  1.7660e-01, -1.8057e-02,  1.0105e+00],\n",
       "        [ 1.9155e-03, -2.4912e-01,  4.0477e-02, -5.9529e-01,  1.1444e+00],\n",
       "        [ 2.5396e-01, -1.6379e-01, -2.3712e-01, -2.9384e-01, -3.5630e+00]])"
      ]
     },
     "execution_count": 14,
     "metadata": {},
     "output_type": "execute_result"
    }
   ],
   "source": [
    "a*b # do not confuse it with the @ operation - this does element-wise operations"
   ]
  },
  {
   "cell_type": "markdown",
   "metadata": {},
   "source": [
    "**another way to create an array/tensor**"
   ]
  },
  {
   "cell_type": "code",
   "execution_count": 15,
   "metadata": {
    "ExecuteTime": {
     "end_time": "2019-10-10T05:40:07.817262Z",
     "start_time": "2019-10-10T05:40:07.813378Z"
    }
   },
   "outputs": [],
   "source": [
    "t=torch.tensor([[1,2,3],[4,5,6],[7,8,9]]) # create tensor from existing data"
   ]
  },
  {
   "cell_type": "code",
   "execution_count": 16,
   "metadata": {
    "ExecuteTime": {
     "end_time": "2019-10-10T05:40:07.822891Z",
     "start_time": "2019-10-10T05:40:07.818058Z"
    }
   },
   "outputs": [
    {
     "data": {
      "text/plain": [
       "tensor([[1, 2, 3],\n",
       "        [4, 5, 6],\n",
       "        [7, 8, 9]])"
      ]
     },
     "execution_count": 16,
     "metadata": {},
     "output_type": "execute_result"
    }
   ],
   "source": [
    "t"
   ]
  },
  {
   "cell_type": "markdown",
   "metadata": {},
   "source": [
    "**tensors of different data types**"
   ]
  },
  {
   "cell_type": "code",
   "execution_count": 17,
   "metadata": {
    "ExecuteTime": {
     "end_time": "2019-10-10T05:40:07.828275Z",
     "start_time": "2019-10-10T05:40:07.823566Z"
    }
   },
   "outputs": [
    {
     "data": {
      "text/plain": [
       "torch.int64"
      ]
     },
     "execution_count": 17,
     "metadata": {},
     "output_type": "execute_result"
    }
   ],
   "source": [
    "t.dtype # tells the datatype"
   ]
  },
  {
   "cell_type": "code",
   "execution_count": 18,
   "metadata": {
    "ExecuteTime": {
     "end_time": "2019-10-10T05:40:07.833498Z",
     "start_time": "2019-10-10T05:40:07.828951Z"
    }
   },
   "outputs": [],
   "source": [
    "t_f=torch.tensor([[1,2,3],[4,5,6],[7,8,9]], dtype=torch.float32) # the numbers here are floating point"
   ]
  },
  {
   "cell_type": "code",
   "execution_count": 19,
   "metadata": {
    "ExecuteTime": {
     "end_time": "2019-10-10T05:40:07.839371Z",
     "start_time": "2019-10-10T05:40:07.834270Z"
    }
   },
   "outputs": [
    {
     "data": {
      "text/plain": [
       "tensor([[1., 2., 3.],\n",
       "        [4., 5., 6.],\n",
       "        [7., 8., 9.]])"
      ]
     },
     "execution_count": 19,
     "metadata": {},
     "output_type": "execute_result"
    }
   ],
   "source": [
    "t_f # see the decimal dots?"
   ]
  },
  {
   "cell_type": "code",
   "execution_count": 20,
   "metadata": {
    "ExecuteTime": {
     "end_time": "2019-10-10T05:40:07.844439Z",
     "start_time": "2019-10-10T05:40:07.840045Z"
    }
   },
   "outputs": [
    {
     "data": {
      "text/plain": [
       "torch.float32"
      ]
     },
     "execution_count": 20,
     "metadata": {},
     "output_type": "execute_result"
    }
   ],
   "source": [
    "t_f.dtype"
   ]
  },
  {
   "cell_type": "code",
   "execution_count": 21,
   "metadata": {
    "ExecuteTime": {
     "end_time": "2019-10-10T05:40:07.850079Z",
     "start_time": "2019-10-10T05:40:07.845121Z"
    }
   },
   "outputs": [
    {
     "data": {
      "text/plain": [
       "False"
      ]
     },
     "execution_count": 21,
     "metadata": {},
     "output_type": "execute_result"
    }
   ],
   "source": [
    "t_f.requires_grad # by default PyTorch does not store gradients as it requires extra space"
   ]
  },
  {
   "cell_type": "markdown",
   "metadata": {},
   "source": [
    "**concating multiple tensors**"
   ]
  },
  {
   "cell_type": "code",
   "execution_count": 22,
   "metadata": {
    "ExecuteTime": {
     "end_time": "2019-10-10T05:40:07.855203Z",
     "start_time": "2019-10-10T05:40:07.850759Z"
    }
   },
   "outputs": [],
   "source": [
    "a=torch.randn(2,5)\n",
    "b=torch.randn(4,5)"
   ]
  },
  {
   "cell_type": "code",
   "execution_count": 23,
   "metadata": {
    "ExecuteTime": {
     "end_time": "2019-10-10T05:40:07.860390Z",
     "start_time": "2019-10-10T05:40:07.856002Z"
    }
   },
   "outputs": [],
   "source": [
    "a_concat_b=torch.cat([a,b]) # concat along row (by default, argument dim=0)\n",
    "# require the columns (generally non-concating axes) to be matching"
   ]
  },
  {
   "cell_type": "code",
   "execution_count": 24,
   "metadata": {
    "ExecuteTime": {
     "end_time": "2019-10-10T05:40:07.866041Z",
     "start_time": "2019-10-10T05:40:07.861183Z"
    }
   },
   "outputs": [
    {
     "data": {
      "text/plain": [
       "torch.Size([6, 5])"
      ]
     },
     "execution_count": 24,
     "metadata": {},
     "output_type": "execute_result"
    }
   ],
   "source": [
    "a_concat_b.shape"
   ]
  },
  {
   "cell_type": "code",
   "execution_count": 25,
   "metadata": {
    "ExecuteTime": {
     "end_time": "2019-10-10T05:40:07.871683Z",
     "start_time": "2019-10-10T05:40:07.866714Z"
    }
   },
   "outputs": [
    {
     "data": {
      "text/plain": [
       "tensor([[ 0.0192,  0.1052,  0.9603, -0.5672, -0.5706],\n",
       "        [ 1.5980,  0.1115, -0.0392,  1.4112, -0.6556],\n",
       "        [-0.1360,  1.6354,  0.6547,  0.5760,  1.0414],\n",
       "        [-0.3997, -2.2933,  0.4976, -0.4257, -1.3371],\n",
       "        [-0.1933,  0.6526, -0.3063, -0.3302, -0.9808],\n",
       "        [ 0.1947, -1.6535,  0.6814,  1.4611, -0.3098]])"
      ]
     },
     "execution_count": 25,
     "metadata": {},
     "output_type": "execute_result"
    }
   ],
   "source": [
    "a_concat_b"
   ]
  },
  {
   "cell_type": "code",
   "execution_count": 26,
   "metadata": {
    "ExecuteTime": {
     "end_time": "2019-10-10T05:40:07.876258Z",
     "start_time": "2019-10-10T05:40:07.872359Z"
    }
   },
   "outputs": [],
   "source": [
    "a=torch.randn(3,5)\n",
    "b=torch.randn(3,7)"
   ]
  },
  {
   "cell_type": "code",
   "execution_count": 27,
   "metadata": {
    "ExecuteTime": {
     "end_time": "2019-10-10T05:40:07.913218Z",
     "start_time": "2019-10-10T05:40:07.877049Z"
    }
   },
   "outputs": [
    {
     "ename": "RuntimeError",
     "evalue": "invalid argument 0: Sizes of tensors must match except in dimension 0. Got 5 and 7 in dimension 1 at /opt/conda/conda-bld/pytorch_1556653114079/work/aten/src/TH/generic/THTensor.cpp:711",
     "output_type": "error",
     "traceback": [
      "\u001b[0;31m---------------------------------------------------------------------------\u001b[0m",
      "\u001b[0;31mRuntimeError\u001b[0m                              Traceback (most recent call last)",
      "\u001b[0;32m<ipython-input-27-0316e264bcbd>\u001b[0m in \u001b[0;36m<module>\u001b[0;34m\u001b[0m\n\u001b[0;32m----> 1\u001b[0;31m \u001b[0ma_concat_b\u001b[0m\u001b[0;34m=\u001b[0m\u001b[0mtorch\u001b[0m\u001b[0;34m.\u001b[0m\u001b[0mcat\u001b[0m\u001b[0;34m(\u001b[0m\u001b[0;34m[\u001b[0m\u001b[0ma\u001b[0m\u001b[0;34m,\u001b[0m\u001b[0mb\u001b[0m\u001b[0;34m]\u001b[0m\u001b[0;34m)\u001b[0m \u001b[0;31m# cannot concat as columns dont match\u001b[0m\u001b[0;34m\u001b[0m\u001b[0;34m\u001b[0m\u001b[0m\n\u001b[0m",
      "\u001b[0;31mRuntimeError\u001b[0m: invalid argument 0: Sizes of tensors must match except in dimension 0. Got 5 and 7 in dimension 1 at /opt/conda/conda-bld/pytorch_1556653114079/work/aten/src/TH/generic/THTensor.cpp:711"
     ]
    }
   ],
   "source": [
    "a_concat_b=torch.cat([a,b]) # cannot concat as columns dont match"
   ]
  },
  {
   "cell_type": "code",
   "execution_count": 28,
   "metadata": {
    "ExecuteTime": {
     "end_time": "2019-10-10T05:40:14.584654Z",
     "start_time": "2019-10-10T05:40:14.578146Z"
    }
   },
   "outputs": [],
   "source": [
    "a_concat_b=torch.cat([a,b], dim=1) # concat along second dimension (columns)\n",
    "# dim is 1 here and the first dimension is 0 "
   ]
  },
  {
   "cell_type": "code",
   "execution_count": 29,
   "metadata": {
    "ExecuteTime": {
     "end_time": "2019-10-10T05:40:15.100331Z",
     "start_time": "2019-10-10T05:40:15.095435Z"
    }
   },
   "outputs": [
    {
     "data": {
      "text/plain": [
       "torch.Size([3, 12])"
      ]
     },
     "execution_count": 29,
     "metadata": {},
     "output_type": "execute_result"
    }
   ],
   "source": [
    "a_concat_b.shape"
   ]
  },
  {
   "cell_type": "code",
   "execution_count": 30,
   "metadata": {
    "ExecuteTime": {
     "end_time": "2019-10-10T05:40:15.333292Z",
     "start_time": "2019-10-10T05:40:15.323898Z"
    }
   },
   "outputs": [
    {
     "data": {
      "text/plain": [
       "tensor([[ 0.8576,  2.1174, -1.7118,  0.1651,  1.5819, -1.1753,  0.3581,  0.4788,\n",
       "          1.3537, -0.1593,  0.4879,  1.1340],\n",
       "        [ 0.4485,  0.0330,  1.4503, -0.6936,  0.9967, -0.3556,  0.3618,  1.9993,\n",
       "          0.6630,  0.7047, -0.0045, -0.8293],\n",
       "        [ 0.6131,  0.7764, -0.3029, -1.2753, -0.4758, -1.0809, -0.7839,  0.5071,\n",
       "          0.0821,  0.4440, -0.7240, -0.0720]])"
      ]
     },
     "execution_count": 30,
     "metadata": {},
     "output_type": "execute_result"
    }
   ],
   "source": [
    "a_concat_b"
   ]
  },
  {
   "cell_type": "markdown",
   "metadata": {},
   "source": [
    "**special tensors**"
   ]
  },
  {
   "cell_type": "code",
   "execution_count": 31,
   "metadata": {
    "ExecuteTime": {
     "end_time": "2019-10-10T05:40:15.979473Z",
     "start_time": "2019-10-10T05:40:15.974439Z"
    }
   },
   "outputs": [
    {
     "data": {
      "text/plain": [
       "tensor([[1., 1., 1., 1., 1.],\n",
       "        [1., 1., 1., 1., 1.],\n",
       "        [1., 1., 1., 1., 1.]])"
      ]
     },
     "execution_count": 31,
     "metadata": {},
     "output_type": "execute_result"
    }
   ],
   "source": [
    "torch.ones(3,5) # matrix of ones 3x5 shape"
   ]
  },
  {
   "cell_type": "code",
   "execution_count": 32,
   "metadata": {
    "ExecuteTime": {
     "end_time": "2019-10-10T05:40:16.338438Z",
     "start_time": "2019-10-10T05:40:16.327525Z"
    }
   },
   "outputs": [
    {
     "data": {
      "text/plain": [
       "tensor([[42., 42., 42., 42., 42.],\n",
       "        [42., 42., 42., 42., 42.],\n",
       "        [42., 42., 42., 42., 42.]])"
      ]
     },
     "execution_count": 32,
     "metadata": {},
     "output_type": "execute_result"
    }
   ],
   "source": [
    "k=42\n",
    "k*torch.ones(3,5) # matrix of 3x5 with a constant (42)\n",
    "# fun fact: my full name has 42 letters in it !!! "
   ]
  },
  {
   "cell_type": "code",
   "execution_count": 33,
   "metadata": {
    "ExecuteTime": {
     "end_time": "2019-10-10T05:40:16.683955Z",
     "start_time": "2019-10-10T05:40:16.674263Z"
    }
   },
   "outputs": [
    {
     "data": {
      "text/plain": [
       "tensor([[0., 0., 0., 0.],\n",
       "        [0., 0., 0., 0.],\n",
       "        [0., 0., 0., 0.]])"
      ]
     },
     "execution_count": 33,
     "metadata": {},
     "output_type": "execute_result"
    }
   ],
   "source": [
    "torch.zeros(3,4) # matrix of 3x5 with 0s"
   ]
  },
  {
   "cell_type": "code",
   "execution_count": 34,
   "metadata": {
    "ExecuteTime": {
     "end_time": "2019-10-10T05:40:17.027797Z",
     "start_time": "2019-10-10T05:40:17.017794Z"
    }
   },
   "outputs": [
    {
     "data": {
      "text/plain": [
       "tensor([[1., 0., 0., 0., 0.],\n",
       "        [0., 1., 0., 0., 0.],\n",
       "        [0., 0., 1., 0., 0.],\n",
       "        [0., 0., 0., 1., 0.],\n",
       "        [0., 0., 0., 0., 1.]])"
      ]
     },
     "execution_count": 34,
     "metadata": {},
     "output_type": "execute_result"
    }
   ],
   "source": [
    "torch.eye(5) # identity matrix 5x5, will always be squre matrix"
   ]
  },
  {
   "cell_type": "code",
   "execution_count": 35,
   "metadata": {
    "ExecuteTime": {
     "end_time": "2019-10-10T05:40:17.294046Z",
     "start_time": "2019-10-10T05:40:17.287037Z"
    }
   },
   "outputs": [],
   "source": [
    "t=torch.tensor([[1,2,3],[4,5,6],[7,8,9]])"
   ]
  },
  {
   "cell_type": "code",
   "execution_count": 36,
   "metadata": {
    "ExecuteTime": {
     "end_time": "2019-10-10T05:40:17.620159Z",
     "start_time": "2019-10-10T05:40:17.611081Z"
    }
   },
   "outputs": [
    {
     "data": {
      "text/plain": [
       "tensor([[1, 2, 3],\n",
       "        [4, 5, 6],\n",
       "        [7, 8, 9]])"
      ]
     },
     "execution_count": 36,
     "metadata": {},
     "output_type": "execute_result"
    }
   ],
   "source": [
    "t"
   ]
  },
  {
   "cell_type": "markdown",
   "metadata": {
    "ExecuteTime": {
     "end_time": "2019-10-10T03:35:20.153382Z",
     "start_time": "2019-10-10T03:35:20.146238Z"
    }
   },
   "source": [
    "**transpose**"
   ]
  },
  {
   "cell_type": "code",
   "execution_count": 37,
   "metadata": {
    "ExecuteTime": {
     "end_time": "2019-10-10T05:40:18.182860Z",
     "start_time": "2019-10-10T05:40:18.173430Z"
    }
   },
   "outputs": [
    {
     "data": {
      "text/plain": [
       "tensor([[1, 4, 7],\n",
       "        [2, 5, 8],\n",
       "        [3, 6, 9]])"
      ]
     },
     "execution_count": 37,
     "metadata": {},
     "output_type": "execute_result"
    }
   ],
   "source": [
    "t.t() # as simple as that"
   ]
  },
  {
   "cell_type": "markdown",
   "metadata": {},
   "source": [
    "**reshape**"
   ]
  },
  {
   "cell_type": "code",
   "execution_count": 38,
   "metadata": {
    "ExecuteTime": {
     "end_time": "2019-10-10T05:40:18.691690Z",
     "start_time": "2019-10-10T05:40:18.682171Z"
    }
   },
   "outputs": [
    {
     "data": {
      "text/plain": [
       "tensor([[1],\n",
       "        [2],\n",
       "        [3],\n",
       "        [4],\n",
       "        [5],\n",
       "        [6],\n",
       "        [7],\n",
       "        [8],\n",
       "        [9]])"
      ]
     },
     "execution_count": 38,
     "metadata": {},
     "output_type": "execute_result"
    }
   ],
   "source": [
    "t.view(9,1) # resape t to 9x1 matrix\n",
    "# can use .reshape method too, but I like this better\n",
    "# Note: the resultant shape (9x1) should have the same number of the elements as the original, else PyTorch complains"
   ]
  },
  {
   "cell_type": "code",
   "execution_count": 39,
   "metadata": {
    "ExecuteTime": {
     "end_time": "2019-10-10T05:40:18.941867Z",
     "start_time": "2019-10-10T05:40:18.932308Z"
    }
   },
   "outputs": [
    {
     "data": {
      "text/plain": [
       "tensor([[1, 2, 3, 4, 5, 6, 7, 8, 9]])"
      ]
     },
     "execution_count": 39,
     "metadata": {},
     "output_type": "execute_result"
    }
   ],
   "source": [
    "t.view(1,9)"
   ]
  },
  {
   "cell_type": "code",
   "execution_count": 40,
   "metadata": {
    "ExecuteTime": {
     "end_time": "2019-10-10T05:40:19.209455Z",
     "start_time": "2019-10-10T05:40:19.198743Z"
    }
   },
   "outputs": [
    {
     "ename": "RuntimeError",
     "evalue": "shape '[2, 8]' is invalid for input of size 9",
     "output_type": "error",
     "traceback": [
      "\u001b[0;31m---------------------------------------------------------------------------\u001b[0m",
      "\u001b[0;31mRuntimeError\u001b[0m                              Traceback (most recent call last)",
      "\u001b[0;32m<ipython-input-40-d04bb7e3166b>\u001b[0m in \u001b[0;36m<module>\u001b[0;34m\u001b[0m\n\u001b[0;32m----> 1\u001b[0;31m \u001b[0mt\u001b[0m\u001b[0;34m.\u001b[0m\u001b[0mview\u001b[0m\u001b[0;34m(\u001b[0m\u001b[0;36m2\u001b[0m\u001b[0;34m,\u001b[0m\u001b[0;36m8\u001b[0m\u001b[0;34m)\u001b[0m \u001b[0;31m# didn't I tell you?\u001b[0m\u001b[0;34m\u001b[0m\u001b[0;34m\u001b[0m\u001b[0m\n\u001b[0m",
      "\u001b[0;31mRuntimeError\u001b[0m: shape '[2, 8]' is invalid for input of size 9"
     ]
    }
   ],
   "source": [
    "t.view(2,8) # didn't I tell you?"
   ]
  },
  {
   "cell_type": "markdown",
   "metadata": {},
   "source": [
    "**inverse**"
   ]
  },
  {
   "cell_type": "code",
   "execution_count": 41,
   "metadata": {
    "ExecuteTime": {
     "end_time": "2019-10-10T05:40:19.832768Z",
     "start_time": "2019-10-10T05:40:19.829866Z"
    }
   },
   "outputs": [],
   "source": [
    "t_f=torch.tensor([[1,2.0,3.3],[4.1,5,6.2],[7,8.4,9.2]])"
   ]
  },
  {
   "cell_type": "code",
   "execution_count": 42,
   "metadata": {
    "ExecuteTime": {
     "end_time": "2019-10-10T05:40:20.293023Z",
     "start_time": "2019-10-10T05:40:20.283610Z"
    }
   },
   "outputs": [
    {
     "data": {
      "text/plain": [
       "tensor([[1.0000, 2.0000, 3.3000],\n",
       "        [4.1000, 5.0000, 6.2000],\n",
       "        [7.0000, 8.4000, 9.2000]])"
      ]
     },
     "execution_count": 42,
     "metadata": {},
     "output_type": "execute_result"
    }
   ],
   "source": [
    "t_f"
   ]
  },
  {
   "cell_type": "code",
   "execution_count": 43,
   "metadata": {
    "ExecuteTime": {
     "end_time": "2019-10-10T05:40:20.796260Z",
     "start_time": "2019-10-10T05:40:20.787474Z"
    }
   },
   "outputs": [
    {
     "data": {
      "text/plain": [
       "tensor([[-1.7716,  2.7156, -1.1946],\n",
       "        [ 1.6550, -4.0501,  2.1358],\n",
       "        [-0.1632,  1.6317, -0.9324]])"
      ]
     },
     "execution_count": 43,
     "metadata": {},
     "output_type": "execute_result"
    }
   ],
   "source": [
    "t_f.inverse()"
   ]
  },
  {
   "cell_type": "code",
   "execution_count": 44,
   "metadata": {
    "ExecuteTime": {
     "end_time": "2019-10-10T05:40:21.063653Z",
     "start_time": "2019-10-10T05:40:21.053903Z"
    }
   },
   "outputs": [
    {
     "data": {
      "text/plain": [
       "tensor([[ 1.0000e+00,  3.1558e-07,  2.0619e-08],\n",
       "        [ 1.4139e-07,  1.0000e+00, -1.5594e-07],\n",
       "        [-1.0358e-06,  7.8550e-07,  1.0000e+00]])"
      ]
     },
     "execution_count": 44,
     "metadata": {},
     "output_type": "execute_result"
    }
   ],
   "source": [
    "t_f@t_f.inverse() # A*A_inverse = I\n",
    "# why dont we get exact identity matrix - there are numerical errors when trying to round off recurrent decimals etc resulting in small numbers close to 0 for off-principal elements"
   ]
  },
  {
   "cell_type": "markdown",
   "metadata": {},
   "source": [
    "**determinant**"
   ]
  },
  {
   "cell_type": "code",
   "execution_count": 45,
   "metadata": {
    "ExecuteTime": {
     "end_time": "2019-10-10T05:40:21.628445Z",
     "start_time": "2019-10-10T05:40:21.623598Z"
    }
   },
   "outputs": [
    {
     "data": {
      "text/plain": [
       "tensor(1.)"
      ]
     },
     "execution_count": 45,
     "metadata": {},
     "output_type": "execute_result"
    }
   ],
   "source": [
    "t=torch.eye(3)\n",
    "torch.det(t) # get the determinant\n",
    "# determinant of identity matrix is 1"
   ]
  },
  {
   "cell_type": "markdown",
   "metadata": {},
   "source": [
    "**broadcasting**"
   ]
  },
  {
   "cell_type": "markdown",
   "metadata": {},
   "source": [
    "Beautifully explained here - https://jakevdp.github.io/PythonDataScienceHandbook/02.05-computation-on-arrays-broadcasting.html  \n",
    "If you did not understand, that is one more good reason to attend the discussion!"
   ]
  },
  {
   "cell_type": "code",
   "execution_count": 46,
   "metadata": {
    "ExecuteTime": {
     "end_time": "2019-10-10T05:40:22.388566Z",
     "start_time": "2019-10-10T05:40:22.383384Z"
    }
   },
   "outputs": [
    {
     "data": {
      "text/plain": [
       "tensor([[9, 9, 5, 9],\n",
       "        [7, 0, 3, 1],\n",
       "        [6, 3, 6, 2]])"
      ]
     },
     "execution_count": 46,
     "metadata": {},
     "output_type": "execute_result"
    }
   ],
   "source": [
    "a=torch.randint(0,10, (3,4))\n",
    "a"
   ]
  },
  {
   "cell_type": "code",
   "execution_count": 47,
   "metadata": {
    "ExecuteTime": {
     "end_time": "2019-10-10T05:40:22.683053Z",
     "start_time": "2019-10-10T05:40:22.672885Z"
    }
   },
   "outputs": [
    {
     "data": {
      "text/plain": [
       "tensor([[2, 1, 1, 1]])"
      ]
     },
     "execution_count": 47,
     "metadata": {},
     "output_type": "execute_result"
    }
   ],
   "source": [
    "b=torch.randint(1,5, (1,4))\n",
    "b"
   ]
  },
  {
   "cell_type": "code",
   "execution_count": 48,
   "metadata": {
    "ExecuteTime": {
     "end_time": "2019-10-10T05:40:22.920106Z",
     "start_time": "2019-10-10T05:40:22.911088Z"
    }
   },
   "outputs": [
    {
     "data": {
      "text/plain": [
       "tensor([[11, 10,  6, 10],\n",
       "        [ 9,  1,  4,  2],\n",
       "        [ 8,  4,  7,  3]])"
      ]
     },
     "execution_count": 48,
     "metadata": {},
     "output_type": "execute_result"
    }
   ],
   "source": [
    "a+b \n",
    "# _ : magic?\n",
    "# Pythonista: no, broadcasting"
   ]
  },
  {
   "cell_type": "code",
   "execution_count": 49,
   "metadata": {
    "ExecuteTime": {
     "end_time": "2019-10-10T05:40:23.271413Z",
     "start_time": "2019-10-10T05:40:23.259859Z"
    }
   },
   "outputs": [
    {
     "data": {
      "text/plain": [
       "tensor([[[8, 3, 0, 5, 2],\n",
       "         [4, 8, 4, 3, 1],\n",
       "         [2, 0, 3, 4, 2],\n",
       "         [2, 1, 3, 7, 0]],\n",
       "\n",
       "        [[8, 7, 3, 7, 7],\n",
       "         [2, 5, 4, 7, 2],\n",
       "         [3, 7, 9, 3, 0],\n",
       "         [9, 2, 2, 6, 2]],\n",
       "\n",
       "        [[5, 0, 8, 4, 1],\n",
       "         [3, 5, 3, 0, 4],\n",
       "         [7, 6, 2, 2, 7],\n",
       "         [1, 6, 5, 1, 9]]])"
      ]
     },
     "execution_count": 49,
     "metadata": {},
     "output_type": "execute_result"
    }
   ],
   "source": [
    "a=torch.randint(0,10, (3,4,5))\n",
    "a"
   ]
  },
  {
   "cell_type": "code",
   "execution_count": 50,
   "metadata": {
    "ExecuteTime": {
     "end_time": "2019-10-10T05:40:23.522289Z",
     "start_time": "2019-10-10T05:40:23.512112Z"
    }
   },
   "outputs": [
    {
     "data": {
      "text/plain": [
       "tensor([[[3, 1, 1, 3, 1]]])"
      ]
     },
     "execution_count": 50,
     "metadata": {},
     "output_type": "execute_result"
    }
   ],
   "source": [
    "b=torch.randint(1,4, (1,1,5))\n",
    "b"
   ]
  },
  {
   "cell_type": "code",
   "execution_count": 51,
   "metadata": {
    "ExecuteTime": {
     "end_time": "2019-10-10T05:40:23.980388Z",
     "start_time": "2019-10-10T05:40:23.970380Z"
    }
   },
   "outputs": [
    {
     "data": {
      "text/plain": [
       "tensor([[[11,  4,  1,  8,  3],\n",
       "         [ 7,  9,  5,  6,  2],\n",
       "         [ 5,  1,  4,  7,  3],\n",
       "         [ 5,  2,  4, 10,  1]],\n",
       "\n",
       "        [[11,  8,  4, 10,  8],\n",
       "         [ 5,  6,  5, 10,  3],\n",
       "         [ 6,  8, 10,  6,  1],\n",
       "         [12,  3,  3,  9,  3]],\n",
       "\n",
       "        [[ 8,  1,  9,  7,  2],\n",
       "         [ 6,  6,  4,  3,  5],\n",
       "         [10,  7,  3,  5,  8],\n",
       "         [ 4,  7,  6,  4, 10]]])"
      ]
     },
     "execution_count": 51,
     "metadata": {},
     "output_type": "execute_result"
    }
   ],
   "source": [
    "a+b # tadaa!!"
   ]
  },
  {
   "cell_type": "code",
   "execution_count": 52,
   "metadata": {
    "ExecuteTime": {
     "end_time": "2019-10-10T05:40:24.262548Z",
     "start_time": "2019-10-10T05:40:24.256557Z"
    }
   },
   "outputs": [
    {
     "data": {
      "text/plain": [
       "tensor([[[8, 5, 8, 8, 6],\n",
       "         [1, 5, 8, 1, 9],\n",
       "         [1, 1, 0, 2, 9],\n",
       "         [1, 6, 0, 9, 6]],\n",
       "\n",
       "        [[5, 3, 0, 8, 5],\n",
       "         [3, 4, 9, 8, 3],\n",
       "         [4, 2, 4, 1, 3],\n",
       "         [2, 9, 8, 6, 3]],\n",
       "\n",
       "        [[9, 4, 7, 1, 6],\n",
       "         [4, 7, 8, 0, 1],\n",
       "         [4, 2, 7, 1, 0],\n",
       "         [4, 5, 9, 7, 1]]])"
      ]
     },
     "execution_count": 52,
     "metadata": {},
     "output_type": "execute_result"
    }
   ],
   "source": [
    "a=torch.randint(0,10, (3,4,5))\n",
    "a"
   ]
  },
  {
   "cell_type": "code",
   "execution_count": 53,
   "metadata": {
    "ExecuteTime": {
     "end_time": "2019-10-10T05:40:24.533388Z",
     "start_time": "2019-10-10T05:40:24.523238Z"
    }
   },
   "outputs": [
    {
     "data": {
      "text/plain": [
       "tensor([[[2],\n",
       "         [1],\n",
       "         [2],\n",
       "         [3]]])"
      ]
     },
     "execution_count": 53,
     "metadata": {},
     "output_type": "execute_result"
    }
   ],
   "source": [
    "b=torch.randint(1,4, (1,4,1))\n",
    "b"
   ]
  },
  {
   "cell_type": "code",
   "execution_count": 54,
   "metadata": {
    "ExecuteTime": {
     "end_time": "2019-10-10T05:40:24.870321Z",
     "start_time": "2019-10-10T05:40:24.859928Z"
    }
   },
   "outputs": [
    {
     "data": {
      "text/plain": [
       "tensor([[[10,  7, 10, 10,  8],\n",
       "         [ 2,  6,  9,  2, 10],\n",
       "         [ 3,  3,  2,  4, 11],\n",
       "         [ 4,  9,  3, 12,  9]],\n",
       "\n",
       "        [[ 7,  5,  2, 10,  7],\n",
       "         [ 4,  5, 10,  9,  4],\n",
       "         [ 6,  4,  6,  3,  5],\n",
       "         [ 5, 12, 11,  9,  6]],\n",
       "\n",
       "        [[11,  6,  9,  3,  8],\n",
       "         [ 5,  8,  9,  1,  2],\n",
       "         [ 6,  4,  9,  3,  2],\n",
       "         [ 7,  8, 12, 10,  4]]])"
      ]
     },
     "execution_count": 54,
     "metadata": {},
     "output_type": "execute_result"
    }
   ],
   "source": [
    "a+b # you gotta love broadcasting"
   ]
  },
  {
   "cell_type": "code",
   "execution_count": 55,
   "metadata": {
    "ExecuteTime": {
     "end_time": "2019-10-10T05:40:25.189633Z",
     "start_time": "2019-10-10T05:40:25.180566Z"
    }
   },
   "outputs": [
    {
     "data": {
      "text/plain": [
       "tensor([[[16, 10, 16, 16, 12],\n",
       "         [ 1,  5,  8,  1,  9],\n",
       "         [ 2,  2,  0,  4, 18],\n",
       "         [ 3, 18,  0, 27, 18]],\n",
       "\n",
       "        [[10,  6,  0, 16, 10],\n",
       "         [ 3,  4,  9,  8,  3],\n",
       "         [ 8,  4,  8,  2,  6],\n",
       "         [ 6, 27, 24, 18,  9]],\n",
       "\n",
       "        [[18,  8, 14,  2, 12],\n",
       "         [ 4,  7,  8,  0,  1],\n",
       "         [ 8,  4, 14,  2,  0],\n",
       "         [12, 15, 27, 21,  3]]])"
      ]
     },
     "execution_count": 55,
     "metadata": {},
     "output_type": "execute_result"
    }
   ],
   "source": [
    "a*b # yes, broadcasting is awesome!"
   ]
  },
  {
   "cell_type": "markdown",
   "metadata": {},
   "source": [
    "**pytorch to numpy and vice-versa**"
   ]
  },
  {
   "cell_type": "code",
   "execution_count": 56,
   "metadata": {
    "ExecuteTime": {
     "end_time": "2019-10-10T05:40:26.043441Z",
     "start_time": "2019-10-10T05:40:26.032886Z"
    }
   },
   "outputs": [
    {
     "data": {
      "text/plain": [
       "tensor([[5, 1, 7, 2],\n",
       "        [8, 2, 6, 1],\n",
       "        [1, 2, 3, 9]])"
      ]
     },
     "execution_count": 56,
     "metadata": {},
     "output_type": "execute_result"
    }
   ],
   "source": [
    "t=torch.randint(1,10, (3,4))\n",
    "t"
   ]
  },
  {
   "cell_type": "code",
   "execution_count": 57,
   "metadata": {
    "ExecuteTime": {
     "end_time": "2019-10-10T05:40:26.283131Z",
     "start_time": "2019-10-10T05:40:26.278484Z"
    }
   },
   "outputs": [
    {
     "data": {
      "text/plain": [
       "torch.Tensor"
      ]
     },
     "execution_count": 57,
     "metadata": {},
     "output_type": "execute_result"
    }
   ],
   "source": [
    "type(t) # is a Pytorch Tensor"
   ]
  },
  {
   "cell_type": "code",
   "execution_count": 58,
   "metadata": {
    "ExecuteTime": {
     "end_time": "2019-10-10T05:40:26.518702Z",
     "start_time": "2019-10-10T05:40:26.513113Z"
    }
   },
   "outputs": [],
   "source": [
    "t_np=t.numpy() # returns a numpy array with the same data"
   ]
  },
  {
   "cell_type": "code",
   "execution_count": 59,
   "metadata": {
    "ExecuteTime": {
     "end_time": "2019-10-10T05:40:26.819906Z",
     "start_time": "2019-10-10T05:40:26.811626Z"
    }
   },
   "outputs": [
    {
     "data": {
      "text/plain": [
       "numpy.ndarray"
      ]
     },
     "execution_count": 59,
     "metadata": {},
     "output_type": "execute_result"
    }
   ],
   "source": [
    "type(t_np)"
   ]
  },
  {
   "cell_type": "code",
   "execution_count": 60,
   "metadata": {
    "ExecuteTime": {
     "end_time": "2019-10-10T05:40:27.194349Z",
     "start_time": "2019-10-10T05:40:27.188902Z"
    }
   },
   "outputs": [],
   "source": [
    "import numpy as np"
   ]
  },
  {
   "cell_type": "code",
   "execution_count": 61,
   "metadata": {
    "ExecuteTime": {
     "end_time": "2019-10-10T05:40:27.775778Z",
     "start_time": "2019-10-10T05:40:27.771361Z"
    }
   },
   "outputs": [],
   "source": [
    "np_arr=np.random.randint(1,10, (3,4))"
   ]
  },
  {
   "cell_type": "code",
   "execution_count": 62,
   "metadata": {
    "ExecuteTime": {
     "end_time": "2019-10-10T05:40:28.095473Z",
     "start_time": "2019-10-10T05:40:28.089551Z"
    }
   },
   "outputs": [],
   "source": [
    "tsr=torch.from_numpy(np_arr) # numpy array to a Pytorch Tensor"
   ]
  },
  {
   "cell_type": "code",
   "execution_count": 63,
   "metadata": {
    "ExecuteTime": {
     "end_time": "2019-10-10T05:40:28.447525Z",
     "start_time": "2019-10-10T05:40:28.439580Z"
    }
   },
   "outputs": [
    {
     "data": {
      "text/plain": [
       "torch.Tensor"
      ]
     },
     "execution_count": 63,
     "metadata": {},
     "output_type": "execute_result"
    }
   ],
   "source": [
    "type(tsr)"
   ]
  },
  {
   "cell_type": "markdown",
   "metadata": {},
   "source": [
    "Last but not the least, Python and numpy primer: https://github.com/kuleshov/cs228-material/blob/master/tutorials/python/cs228-python-tutorial.ipynb"
   ]
  }
 ],
 "metadata": {
  "kernelspec": {
   "display_name": "Python 3",
   "language": "python",
   "name": "python3"
  },
  "language_info": {
   "codemirror_mode": {
    "name": "ipython",
    "version": 3
   },
   "file_extension": ".py",
   "mimetype": "text/x-python",
   "name": "python",
   "nbconvert_exporter": "python",
   "pygments_lexer": "ipython3",
   "version": "3.7.3"
  }
 },
 "nbformat": 4,
 "nbformat_minor": 2
}
