{
 "cells": [
  {
   "cell_type": "code",
   "execution_count": 92,
   "metadata": {},
   "outputs": [],
   "source": [
    "%matplotlib inline # required if you want plots to be visible within the notebook"
   ]
  },
  {
   "cell_type": "code",
   "execution_count": 1,
   "metadata": {},
   "outputs": [],
   "source": [
    "# imports\n",
    "import torch\n",
    "from torch import nn\n",
    "\n",
    "import torchvision\n",
    "from torchvision import transforms\n",
    "\n",
    "from matplotlib import pyplot as plt"
   ]
  },
  {
   "cell_type": "markdown",
   "metadata": {},
   "source": [
    "**Train and test dataset**"
   ]
  },
  {
   "cell_type": "code",
   "execution_count": 2,
   "metadata": {},
   "outputs": [
    {
     "name": "stdout",
     "output_type": "stream",
     "text": [
      "Files already downloaded and verified\n",
      "Files already downloaded and verified\n"
     ]
    }
   ],
   "source": [
    "transform = transforms.Compose(\n",
    "    [transforms.ToTensor()\n",
    "    ]) # transform the images to format which our network can process\n",
    "\n",
    "\n",
    "# download (into .data folder) and load the train/test CIFAR10 dataset\n",
    "train_ds = torchvision.datasets.CIFAR10(root='./data', train=True,\n",
    "                                        download=True, transform=transform)\n",
    "train_dl = torch.utils.data.DataLoader(train_ds, batch_size=4,\n",
    "                                          shuffle=True, num_workers=2)\n",
    "\n",
    "test_ds = torchvision.datasets.CIFAR10(root='./data', train=False,\n",
    "                                       download=True, transform=transform)\n",
    "test_dl = torch.utils.data.DataLoader(test_ds, batch_size=4,\n",
    "                                         shuffle=False, num_workers=2)"
   ]
  },
  {
   "cell_type": "markdown",
   "metadata": {},
   "source": [
    "**Explore the train dataset**"
   ]
  },
  {
   "cell_type": "code",
   "execution_count": 3,
   "metadata": {},
   "outputs": [],
   "source": [
    "for batch in train_dl:\n",
    "    break"
   ]
  },
  {
   "cell_type": "code",
   "execution_count": 4,
   "metadata": {},
   "outputs": [
    {
     "data": {
      "text/plain": [
       "(torch.Size([4, 3, 32, 32]), torch.Size([4]))"
      ]
     },
     "execution_count": 4,
     "metadata": {},
     "output_type": "execute_result"
    }
   ],
   "source": [
    "x,y=batch\n",
    "x.shape, y.shape"
   ]
  },
  {
   "cell_type": "code",
   "execution_count": 5,
   "metadata": {},
   "outputs": [
    {
     "data": {
      "text/plain": [
       "tensor([3, 4, 3, 4])"
      ]
     },
     "execution_count": 5,
     "metadata": {},
     "output_type": "execute_result"
    }
   ],
   "source": [
    "y"
   ]
  },
  {
   "cell_type": "code",
   "execution_count": 6,
   "metadata": {},
   "outputs": [
    {
     "data": {
      "text/plain": [
       "<matplotlib.image.AxesImage at 0x7f718ec55da0>"
      ]
     },
     "execution_count": 6,
     "metadata": {},
     "output_type": "execute_result"
    },
    {
     "data": {
      "image/png": "[encoded data removed]",
      "text/plain": [
       "<Figure size 432x288 with 1 Axes>"
      ]
     },
     "metadata": {
      "needs_background": "light"
     },
     "output_type": "display_data"
    }
   ],
   "source": [
    "img=x[1].transpose(0,1).transpose(1,2) # need to make channels the last dimension\n",
    "plt.imshow(img)"
   ]
  },
  {
   "cell_type": "markdown",
   "metadata": {},
   "source": [
    "**Model**"
   ]
  },
  {
   "cell_type": "code",
   "execution_count": 7,
   "metadata": {},
   "outputs": [],
   "source": [
    "# net architecture\n",
    "class FCNet(nn.Module): # should inherit the model from nn.Module (parent class)\n",
    "    def __init__(self, in_dim, n_classes):\n",
    "        super(FCNet, self).__init__() # calls the constructor (__init__) of parent class\n",
    "        self.in_dim=in_dim\n",
    "        self.n_classes=n_classes\n",
    "        # 3 layers\n",
    "        self.l1=nn.Linear(self.in_dim, 1000)\n",
    "        self.l2=nn.Linear(1000, 300)\n",
    "        self.l3=nn.Linear(300, self.n_classes)\n",
    "        self.relu=nn.ReLU()\n",
    "    \n",
    "    def forward(self, x): # forward pass\n",
    "        B,C,H,W=x.shape\n",
    "        x=x.view(B, C*H*W) # flatten each 3x32x32 image to vector of size 3*32*32\n",
    "        #print(x.shape) # shoudl be size (B,C*H*W)\n",
    "        \n",
    "        x2=self.relu(self.l1(x)) # linear followed by ReLU activation\n",
    "        x3=self.relu(self.l2(x2))\n",
    "        x4=self.l3(x3)\n",
    "        return x4     "
   ]
  },
  {
   "cell_type": "code",
   "execution_count": 8,
   "metadata": {},
   "outputs": [],
   "source": [
    "net=FCNet(in_dim=32*32*3, n_classes=10) # instantiate the net object"
   ]
  },
  {
   "cell_type": "code",
   "execution_count": 9,
   "metadata": {},
   "outputs": [
    {
     "data": {
      "text/plain": [
       "torch.Size([4, 10])"
      ]
     },
     "execution_count": 9,
     "metadata": {},
     "output_type": "execute_result"
    }
   ],
   "source": [
    "res=net(x) # test the network on the batch we used for visualization earlier\n",
    "res.shape"
   ]
  },
  {
   "cell_type": "code",
   "execution_count": 10,
   "metadata": {},
   "outputs": [],
   "source": [
    "loss_func=nn.CrossEntropyLoss() # cross-entropy loss function"
   ]
  },
  {
   "cell_type": "code",
   "execution_count": 11,
   "metadata": {},
   "outputs": [
    {
     "name": "stdout",
     "output_type": "stream",
     "text": [
      "torch.Size([1000, 3072])\n",
      "torch.Size([1000])\n",
      "torch.Size([300, 1000])\n",
      "torch.Size([300])\n",
      "torch.Size([10, 300])\n",
      "torch.Size([10])\n"
     ]
    }
   ],
   "source": [
    "# explore the weights in net.parameters()\n",
    "for wt in net.parameters():\n",
    "    print(wt.shape)"
   ]
  },
  {
   "cell_type": "code",
   "execution_count": 12,
   "metadata": {},
   "outputs": [],
   "source": [
    "optimizer=torch.optim.SGD(net.parameters(), lr=0.001) # contruct the optimizer with learning rate=0.001"
   ]
  },
  {
   "cell_type": "markdown",
   "metadata": {},
   "source": [
    "**Train/Eval loop**"
   ]
  },
  {
   "cell_type": "code",
   "execution_count": 13,
   "metadata": {},
   "outputs": [],
   "source": [
    "def train(n_epochs): # train loop\n",
    "    \"\"\"\n",
    "        train loop\n",
    "        * Here we defined dataloaders, net etc. as global variables, which is a bad practice. In the interest of time, we did this for the discussion\n",
    "    \"\"\"\n",
    "    train_loss=[]\n",
    "    test_loss=[]\n",
    "    for ep in range(n_epochs):\n",
    "        tr_loss=0.\n",
    "        net.train() # set the model in train mode\n",
    "        for x,y in train_dl:\n",
    "            yp=net(x)\n",
    "            loss=loss_func(yp, y)\n",
    "            optimizer.zero_grad() # need to clear the gradients from previous batch\n",
    "            loss.backward() # compute the gradients\n",
    "            optimizer.step() # update the weights/parameters\n",
    "            tr_loss+=loss.item() \n",
    "        tr_loss=tr_loss/len(train_ds) # avg train loss\n",
    "        torch.save(net.state_dict(), f\"epoch{ep}.pt\") # save the model (model state more specifically) at end of each epoch\n",
    "        \n",
    "        train_loss.append(tr_loss)\n",
    "        te_loss=0.\n",
    "        net.eval() # set the model in evaluation mode\n",
    "        for x,y in test_dl: # dont need to do gradient calculation and weight update\n",
    "            yp=net(x)\n",
    "            loss=loss_func(yp, y)\n",
    "            te_loss+=loss.item() \n",
    "        te_loss=te_loss/len(test_ds) # avg test loss\n",
    "        test_loss.append(te_loss) \n",
    "        print(f\"Epoch : {ep}, Train loss: {tr_loss}, Valid/Test loss: {te_loss}\")\n",
    "    return train_loss, test_loss"
   ]
  },
  {
   "cell_type": "code",
   "execution_count": 14,
   "metadata": {},
   "outputs": [
    {
     "name": "stdout",
     "output_type": "stream",
     "text": [
      "Epoch : 0, Train loss: 0.5078143678843975, Valid/Test loss: 0.4691374388217926\n",
      "Epoch : 1, Train loss: 0.45467059821009637, Valid/Test loss: 0.4421157549500465\n",
      "Epoch : 2, Train loss: 0.4301031427705288, Valid/Test loss: 0.41791236040592195\n",
      "Epoch : 3, Train loss: 0.4124483621865511, Valid/Test loss: 0.4072909691333771\n",
      "Epoch : 4, Train loss: 0.39854036546587945, Valid/Test loss: 0.3890887553811073\n",
      "Epoch : 5, Train loss: 0.3870268115115166, Valid/Test loss: 0.3850702167928219\n",
      "Epoch : 6, Train loss: 0.3771625420212746, Valid/Test loss: 0.3747491391003132\n",
      "Epoch : 7, Train loss: 0.3689469957327843, Valid/Test loss: 0.3734617879807949\n",
      "Epoch : 8, Train loss: 0.36163751061677935, Valid/Test loss: 0.3654598534941673\n",
      "Epoch : 9, Train loss: 0.35447882014214993, Valid/Test loss: 0.3560542758256197\n"
     ]
    }
   ],
   "source": [
    "train_loss,test_loss=train(10) # train for 10 epochs\n",
    "# this will take some time if you are training on a CPU"
   ]
  },
  {
   "cell_type": "markdown",
   "metadata": {},
   "source": [
    "**Plot the losses**"
   ]
  },
  {
   "cell_type": "code",
   "execution_count": 21,
   "metadata": {},
   "outputs": [
    {
     "data": {
      "image/png": "[encoded data removed]",
      "text/plain": [
       "<Figure size 432x288 with 1 Axes>"
      ]
     },
     "metadata": {
      "needs_background": "light"
     },
     "output_type": "display_data"
    }
   ],
   "source": [
    "ax=plt.gca()\n",
    "ax.plot(train_loss, label=\"Train Loss\") #use ax.plot instead of plt.plot to display both train and valid loss in the same plot\n",
    "ax.plot(test_loss, label=\"Test Loss\")\n",
    "plt.xlabel(\"Epoch\")\n",
    "plt.ylabel(\"Loss\")\n",
    "plt.title(\"Loss plots\")\n",
    "plt.legend()\n",
    "plt.show()"
   ]
  },
  {
   "cell_type": "markdown",
   "metadata": {},
   "source": [
    "**Loading saved model weights**"
   ]
  },
  {
   "cell_type": "code",
   "execution_count": 15,
   "metadata": {},
   "outputs": [
    {
     "data": {
      "text/plain": [
       "IncompatibleKeys(missing_keys=[], unexpected_keys=[])"
      ]
     },
     "execution_count": 15,
     "metadata": {},
     "output_type": "execute_result"
    }
   ],
   "source": [
    "# typically this happens in a different file after we have trained the model, so we create a new instance of model (eval_net)\n",
    "eval_net=FCNet(in_dim=32*32*3, n_classes=10) # model initialized with random values for weights\n",
    "wt_path=\"epoch7.pt\"\n",
    "state_dict=torch.load(wt_path) # load saved weights\n",
    "eval_net.load_state_dict(state_dict) # load the saved weights into this model"
   ]
  }
 ],
 "metadata": {
  "kernelspec": {
   "display_name": "Python 3",
   "language": "python",
   "name": "python3"
  },
  "language_info": {
   "codemirror_mode": {
    "name": "ipython",
    "version": 3
   },
   "file_extension": ".py",
   "mimetype": "text/x-python",
   "name": "python",
   "nbconvert_exporter": "python",
   "pygments_lexer": "ipython3",
   "version": "3.7.3"
  }
 },
 "nbformat": 4,
 "nbformat_minor": 2
}
