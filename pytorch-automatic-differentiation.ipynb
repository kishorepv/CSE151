{
 "cells": [
  {
   "cell_type": "code",
   "execution_count": 1,
   "metadata": {
    "ExecuteTime": {
     "end_time": "2019-10-03T05:58:28.721269Z",
     "start_time": "2019-10-03T05:58:28.561703Z"
    }
   },
   "outputs": [],
   "source": [
    "import torch"
   ]
  },
  {
   "cell_type": "code",
   "execution_count": 29,
   "metadata": {
    "ExecuteTime": {
     "end_time": "2019-10-03T06:03:13.063548Z",
     "start_time": "2019-10-03T06:03:13.059186Z"
    }
   },
   "outputs": [
    {
     "name": "stdout",
     "output_type": "stream",
     "text": [
      "1.1.0\n"
     ]
    }
   ],
   "source": [
    "print(torch.__version__) # This code was tested on version 1.1.0"
   ]
  },
  {
   "cell_type": "markdown",
   "metadata": {},
   "source": [
    "### Simple automatic gradient calculation"
   ]
  },
  {
   "cell_type": "code",
   "execution_count": 2,
   "metadata": {
    "ExecuteTime": {
     "end_time": "2019-10-03T05:58:35.053731Z",
     "start_time": "2019-10-03T05:58:35.049077Z"
    }
   },
   "outputs": [],
   "source": [
    "x=torch.tensor(5, requires_grad=True, dtype=torch.float32) # creates a tensor (think as multi-dimensional array)"
   ]
  },
  {
   "cell_type": "code",
   "execution_count": 3,
   "metadata": {
    "ExecuteTime": {
     "end_time": "2019-10-03T05:58:35.683905Z",
     "start_time": "2019-10-03T05:58:35.656067Z"
    }
   },
   "outputs": [
    {
     "data": {
      "text/plain": [
       "tensor(5., requires_grad=True)"
      ]
     },
     "execution_count": 3,
     "metadata": {},
     "output_type": "execute_result"
    }
   ],
   "source": [
    "x"
   ]
  },
  {
   "cell_type": "code",
   "execution_count": 5,
   "metadata": {
    "ExecuteTime": {
     "end_time": "2019-10-03T05:58:43.118894Z",
     "start_time": "2019-10-03T05:58:43.113716Z"
    }
   },
   "outputs": [],
   "source": [
    "x.grad  # x.grad=None initally"
   ]
  },
  {
   "cell_type": "code",
   "execution_count": 6,
   "metadata": {
    "ExecuteTime": {
     "end_time": "2019-10-03T05:58:43.919671Z",
     "start_time": "2019-10-03T05:58:43.913973Z"
    }
   },
   "outputs": [],
   "source": [
    "y=x*x"
   ]
  },
  {
   "cell_type": "code",
   "execution_count": 7,
   "metadata": {
    "ExecuteTime": {
     "end_time": "2019-10-03T05:58:44.623640Z",
     "start_time": "2019-10-03T05:58:44.614980Z"
    }
   },
   "outputs": [
    {
     "data": {
      "text/plain": [
       "tensor(25., grad_fn=<MulBackward0>)"
      ]
     },
     "execution_count": 7,
     "metadata": {},
     "output_type": "execute_result"
    }
   ],
   "source": [
    "y"
   ]
  },
  {
   "cell_type": "code",
   "execution_count": 8,
   "metadata": {
    "ExecuteTime": {
     "end_time": "2019-10-03T05:58:46.757879Z",
     "start_time": "2019-10-03T05:58:46.752573Z"
    }
   },
   "outputs": [],
   "source": [
    "y.grad"
   ]
  },
  {
   "cell_type": "code",
   "execution_count": 9,
   "metadata": {
    "ExecuteTime": {
     "end_time": "2019-10-03T05:58:51.598135Z",
     "start_time": "2019-10-03T05:58:51.488705Z"
    }
   },
   "outputs": [],
   "source": [
    "y.backward() # computes partial derivatives ∂y/∂x and stores it in x.grad"
   ]
  },
  {
   "cell_type": "code",
   "execution_count": 10,
   "metadata": {
    "ExecuteTime": {
     "end_time": "2019-10-03T05:58:52.140972Z",
     "start_time": "2019-10-03T05:58:52.136125Z"
    }
   },
   "outputs": [
    {
     "data": {
      "text/plain": [
       "tensor(10.)"
      ]
     },
     "execution_count": 10,
     "metadata": {},
     "output_type": "execute_result"
    }
   ],
   "source": [
    "x.grad # ∂y/∂x = 2 * x = 2 * 5 = 10"
   ]
  },
  {
   "cell_type": "markdown",
   "metadata": {},
   "source": [
    "### Why do we need `requires_grad`?"
   ]
  },
  {
   "cell_type": "markdown",
   "metadata": {
    "ExecuteTime": {
     "end_time": "2019-10-03T05:26:58.222729Z",
     "start_time": "2019-10-03T05:26:58.218568Z"
    }
   },
   "source": [
    "* The argument `requires_grad=True` to tells PyTorch that we want the gradient (partial derivative with respect to this variable/tensor). Once we specify this PyTorch tracks the operations performed using this variable which it uses to compute the partial derviates when `.backward()` is called on an output variable/tensor (i.e. a variable that is obtained as a result of some operation/opertions on this variable/tensor).  \n",
    "* Also, PyTorch requires the tensor/variable to be of type float to calculate its gradient, which is why we need `dtype=torch.float32`"
   ]
  },
  {
   "cell_type": "code",
   "execution_count": 11,
   "metadata": {
    "ExecuteTime": {
     "end_time": "2019-10-03T05:58:57.709733Z",
     "start_time": "2019-10-03T05:58:57.672578Z"
    }
   },
   "outputs": [
    {
     "ename": "RuntimeError",
     "evalue": "element 0 of tensors does not require grad and does not have a grad_fn",
     "output_type": "error",
     "traceback": [
      "\u001b[0;31m---------------------------------------------------------------------------\u001b[0m",
      "\u001b[0;31mRuntimeError\u001b[0m                              Traceback (most recent call last)",
      "\u001b[0;32m<ipython-input-11-0ff67e189ce6>\u001b[0m in \u001b[0;36m<module>\u001b[0;34m\u001b[0m\n\u001b[1;32m      1\u001b[0m \u001b[0mx\u001b[0m\u001b[0;34m=\u001b[0m\u001b[0mtorch\u001b[0m\u001b[0;34m.\u001b[0m\u001b[0mtensor\u001b[0m\u001b[0;34m(\u001b[0m\u001b[0;36m5\u001b[0m\u001b[0;34m)\u001b[0m\u001b[0;34m\u001b[0m\u001b[0;34m\u001b[0m\u001b[0m\n\u001b[1;32m      2\u001b[0m \u001b[0my\u001b[0m\u001b[0;34m=\u001b[0m\u001b[0mx\u001b[0m\u001b[0;34m*\u001b[0m\u001b[0mx\u001b[0m\u001b[0;34m\u001b[0m\u001b[0;34m\u001b[0m\u001b[0m\n\u001b[0;32m----> 3\u001b[0;31m \u001b[0my\u001b[0m\u001b[0;34m.\u001b[0m\u001b[0mbackward\u001b[0m\u001b[0;34m(\u001b[0m\u001b[0;34m)\u001b[0m \u001b[0;31m# you get an error\u001b[0m\u001b[0;34m\u001b[0m\u001b[0;34m\u001b[0m\u001b[0m\n\u001b[0m",
      "\u001b[0;32m~/anaconda3/lib/python3.7/site-packages/torch/tensor.py\u001b[0m in \u001b[0;36mbackward\u001b[0;34m(self, gradient, retain_graph, create_graph)\u001b[0m\n\u001b[1;32m    105\u001b[0m                 \u001b[0mproducts\u001b[0m\u001b[0;34m.\u001b[0m \u001b[0mDefaults\u001b[0m \u001b[0mto\u001b[0m\u001b[0;31m \u001b[0m\u001b[0;31m`\u001b[0m\u001b[0;31m`\u001b[0m\u001b[0;32mFalse\u001b[0m\u001b[0;31m`\u001b[0m\u001b[0;31m`\u001b[0m\u001b[0;34m.\u001b[0m\u001b[0;34m\u001b[0m\u001b[0;34m\u001b[0m\u001b[0m\n\u001b[1;32m    106\u001b[0m         \"\"\"\n\u001b[0;32m--> 107\u001b[0;31m         \u001b[0mtorch\u001b[0m\u001b[0;34m.\u001b[0m\u001b[0mautograd\u001b[0m\u001b[0;34m.\u001b[0m\u001b[0mbackward\u001b[0m\u001b[0;34m(\u001b[0m\u001b[0mself\u001b[0m\u001b[0;34m,\u001b[0m \u001b[0mgradient\u001b[0m\u001b[0;34m,\u001b[0m \u001b[0mretain_graph\u001b[0m\u001b[0;34m,\u001b[0m \u001b[0mcreate_graph\u001b[0m\u001b[0;34m)\u001b[0m\u001b[0;34m\u001b[0m\u001b[0;34m\u001b[0m\u001b[0m\n\u001b[0m\u001b[1;32m    108\u001b[0m \u001b[0;34m\u001b[0m\u001b[0m\n\u001b[1;32m    109\u001b[0m     \u001b[0;32mdef\u001b[0m \u001b[0mregister_hook\u001b[0m\u001b[0;34m(\u001b[0m\u001b[0mself\u001b[0m\u001b[0;34m,\u001b[0m \u001b[0mhook\u001b[0m\u001b[0;34m)\u001b[0m\u001b[0;34m:\u001b[0m\u001b[0;34m\u001b[0m\u001b[0;34m\u001b[0m\u001b[0m\n",
      "\u001b[0;32m~/anaconda3/lib/python3.7/site-packages/torch/autograd/__init__.py\u001b[0m in \u001b[0;36mbackward\u001b[0;34m(tensors, grad_tensors, retain_graph, create_graph, grad_variables)\u001b[0m\n\u001b[1;32m     91\u001b[0m     Variable._execution_engine.run_backward(\n\u001b[1;32m     92\u001b[0m         \u001b[0mtensors\u001b[0m\u001b[0;34m,\u001b[0m \u001b[0mgrad_tensors\u001b[0m\u001b[0;34m,\u001b[0m \u001b[0mretain_graph\u001b[0m\u001b[0;34m,\u001b[0m \u001b[0mcreate_graph\u001b[0m\u001b[0;34m,\u001b[0m\u001b[0;34m\u001b[0m\u001b[0;34m\u001b[0m\u001b[0m\n\u001b[0;32m---> 93\u001b[0;31m         allow_unreachable=True)  # allow_unreachable flag\n\u001b[0m\u001b[1;32m     94\u001b[0m \u001b[0;34m\u001b[0m\u001b[0m\n\u001b[1;32m     95\u001b[0m \u001b[0;34m\u001b[0m\u001b[0m\n",
      "\u001b[0;31mRuntimeError\u001b[0m: element 0 of tensors does not require grad and does not have a grad_fn"
     ]
    }
   ],
   "source": [
    "x=torch.tensor(5)\n",
    "y=x*x\n",
    "y.backward() # you get an error"
   ]
  },
  {
   "cell_type": "code",
   "execution_count": 12,
   "metadata": {
    "ExecuteTime": {
     "end_time": "2019-10-03T05:58:59.120223Z",
     "start_time": "2019-10-03T05:58:59.113117Z"
    }
   },
   "outputs": [
    {
     "ename": "RuntimeError",
     "evalue": "Only Tensors of floating point dtype can require gradients",
     "output_type": "error",
     "traceback": [
      "\u001b[0;31m---------------------------------------------------------------------------\u001b[0m",
      "\u001b[0;31mRuntimeError\u001b[0m                              Traceback (most recent call last)",
      "\u001b[0;32m<ipython-input-12-844118e90b3c>\u001b[0m in \u001b[0;36m<module>\u001b[0;34m\u001b[0m\n\u001b[0;32m----> 1\u001b[0;31m \u001b[0mx\u001b[0m\u001b[0;34m=\u001b[0m\u001b[0mtorch\u001b[0m\u001b[0;34m.\u001b[0m\u001b[0mtensor\u001b[0m\u001b[0;34m(\u001b[0m\u001b[0;36m5\u001b[0m\u001b[0;34m,\u001b[0m \u001b[0mrequires_grad\u001b[0m\u001b[0;34m=\u001b[0m\u001b[0;32mTrue\u001b[0m\u001b[0;34m)\u001b[0m\u001b[0;34m\u001b[0m\u001b[0;34m\u001b[0m\u001b[0m\n\u001b[0m\u001b[1;32m      2\u001b[0m \u001b[0my\u001b[0m\u001b[0;34m=\u001b[0m\u001b[0mx\u001b[0m\u001b[0;34m*\u001b[0m\u001b[0mx\u001b[0m\u001b[0;34m\u001b[0m\u001b[0;34m\u001b[0m\u001b[0m\n\u001b[1;32m      3\u001b[0m \u001b[0my\u001b[0m\u001b[0;34m.\u001b[0m\u001b[0mbackward\u001b[0m\u001b[0;34m(\u001b[0m\u001b[0;34m)\u001b[0m \u001b[0;31m# you get an error\u001b[0m\u001b[0;34m\u001b[0m\u001b[0;34m\u001b[0m\u001b[0m\n",
      "\u001b[0;31mRuntimeError\u001b[0m: Only Tensors of floating point dtype can require gradients"
     ]
    }
   ],
   "source": [
    "x=torch.tensor(5, requires_grad=True)\n",
    "y=x*x\n",
    "y.backward() # you get an error"
   ]
  },
  {
   "cell_type": "markdown",
   "metadata": {},
   "source": [
    "### One more example"
   ]
  },
  {
   "cell_type": "code",
   "execution_count": 13,
   "metadata": {
    "ExecuteTime": {
     "end_time": "2019-10-03T05:59:03.022288Z",
     "start_time": "2019-10-03T05:59:03.017383Z"
    }
   },
   "outputs": [],
   "source": [
    "x=torch.tensor(5, requires_grad=True, dtype=torch.float32)\n",
    "z=torch.tensor(3, requires_grad=True, dtype=torch.float32)"
   ]
  },
  {
   "cell_type": "code",
   "execution_count": 14,
   "metadata": {
    "ExecuteTime": {
     "end_time": "2019-10-03T05:59:03.407002Z",
     "start_time": "2019-10-03T05:59:03.400330Z"
    }
   },
   "outputs": [],
   "source": [
    "y=x*x + z + torch.log(z)"
   ]
  },
  {
   "cell_type": "code",
   "execution_count": 15,
   "metadata": {
    "ExecuteTime": {
     "end_time": "2019-10-03T05:59:03.767793Z",
     "start_time": "2019-10-03T05:59:03.761920Z"
    }
   },
   "outputs": [],
   "source": [
    "y.backward()"
   ]
  },
  {
   "cell_type": "markdown",
   "metadata": {},
   "source": [
    "x.grad= ∂y/∂x = 2x = 2*5 = 10"
   ]
  },
  {
   "cell_type": "markdown",
   "metadata": {},
   "source": [
    "z.grad = ∂y/∂z = 1+(1/z) = 1+1/3=1.33"
   ]
  },
  {
   "cell_type": "code",
   "execution_count": 16,
   "metadata": {
    "ExecuteTime": {
     "end_time": "2019-10-03T05:59:05.660653Z",
     "start_time": "2019-10-03T05:59:05.650595Z"
    }
   },
   "outputs": [
    {
     "data": {
      "text/plain": [
       "(tensor(10.), tensor(1.3333))"
      ]
     },
     "execution_count": 16,
     "metadata": {},
     "output_type": "execute_result"
    }
   ],
   "source": [
    "x.grad, z.grad"
   ]
  },
  {
   "cell_type": "markdown",
   "metadata": {},
   "source": [
    "### A more involved example"
   ]
  },
  {
   "cell_type": "code",
   "execution_count": 17,
   "metadata": {
    "ExecuteTime": {
     "end_time": "2019-10-03T05:59:11.892555Z",
     "start_time": "2019-10-03T05:59:11.888180Z"
    }
   },
   "outputs": [],
   "source": [
    "x=torch.tensor(5, requires_grad=True, dtype=torch.float32)\n",
    "z=torch.tensor(3, requires_grad=True, dtype=torch.float32)"
   ]
  },
  {
   "cell_type": "code",
   "execution_count": 18,
   "metadata": {
    "ExecuteTime": {
     "end_time": "2019-10-03T05:59:12.230911Z",
     "start_time": "2019-10-03T05:59:12.224218Z"
    }
   },
   "outputs": [],
   "source": [
    "r1=x*x + z + torch.log(z) # r1=f(x,z), where f=x*x + z + log(z)"
   ]
  },
  {
   "cell_type": "code",
   "execution_count": 19,
   "metadata": {
    "ExecuteTime": {
     "end_time": "2019-10-03T05:59:12.623709Z",
     "start_time": "2019-10-03T05:59:12.617509Z"
    }
   },
   "outputs": [],
   "source": [
    "r2=r1+torch.sqrt(x)  # r2=g(r1,x), where g=r1 + √x"
   ]
  },
  {
   "cell_type": "code",
   "execution_count": 20,
   "metadata": {
    "ExecuteTime": {
     "end_time": "2019-10-03T05:59:13.040151Z",
     "start_time": "2019-10-03T05:59:13.033740Z"
    }
   },
   "outputs": [],
   "source": [
    "r3=100*r1+torch.log(r2) # r3=h(r1,r2), where h=100 * r1 + log(r2)"
   ]
  },
  {
   "cell_type": "code",
   "execution_count": 21,
   "metadata": {
    "ExecuteTime": {
     "end_time": "2019-10-03T05:59:13.630743Z",
     "start_time": "2019-10-03T05:59:13.624487Z"
    }
   },
   "outputs": [],
   "source": [
    "y=r1+r2+r3 # y=u(r1,r2,r3), where u=r1 + r2 +r3"
   ]
  },
  {
   "cell_type": "markdown",
   "metadata": {},
   "source": [
    "So our y is:\n",
    "$$y = u(r1,r2,r3) = u(f(x,z), g(f(x,z), x), h(f(x,z), g(f(x,z), x) ) )$$  \n",
    "\n",
    "Computing the partial derivative of y wrt x (∂y/∂x) and y wrt z (∂y/∂z) by hand is not so easy anymore and will take some time. Pytorch does this automatically for us! "
   ]
  },
  {
   "cell_type": "code",
   "execution_count": 22,
   "metadata": {
    "ExecuteTime": {
     "end_time": "2019-10-03T06:00:21.013291Z",
     "start_time": "2019-10-03T06:00:21.009136Z"
    }
   },
   "outputs": [],
   "source": [
    "y.backward() # voila! (∂y/∂x) and z (∂y/∂z) are calculated and stored in x.grad and z.grad respectively"
   ]
  },
  {
   "cell_type": "code",
   "execution_count": 26,
   "metadata": {
    "ExecuteTime": {
     "end_time": "2019-10-03T06:01:41.575872Z",
     "start_time": "2019-10-03T06:01:41.570972Z"
    }
   },
   "outputs": [
    {
     "name": "stdout",
     "output_type": "stream",
     "text": [
      "∂y/∂x=1020.5499267578125, ∂y/∂z=136.0425567626953\n"
     ]
    }
   ],
   "source": [
    "print(f\"∂y/∂x={x.grad}, ∂y/∂z={z.grad}\")"
   ]
  },
  {
   "cell_type": "code",
   "execution_count": 27,
   "metadata": {
    "ExecuteTime": {
     "end_time": "2019-10-03T06:02:01.696594Z",
     "start_time": "2019-10-03T06:02:01.691194Z"
    }
   },
   "outputs": [
    {
     "name": "stdout",
     "output_type": "stream",
     "text": [
      "tensor(1020.5499) tensor(136.0426) None None None\n"
     ]
    }
   ],
   "source": [
    "print(x.grad, z.grad, r1.grad, r2.grad, r3.grad)"
   ]
  },
  {
   "cell_type": "markdown",
   "metadata": {},
   "source": [
    "Why are `r1.grad`, `r2.grad` and `r3.grad` None?\n",
    "* PyTorch by default stores only the gradient of the non-intermediate variables/tensors (i.e. x and z here) to save memory\n",
    "* See here for a detailed explanation - https://discuss.pytorch.org/t/why-cant-i-see-grad-of-an-intermediate-variable/94/2"
   ]
  },
  {
   "cell_type": "markdown",
   "metadata": {},
   "source": [
    "### Excercise"
   ]
  },
  {
   "cell_type": "markdown",
   "metadata": {},
   "source": [
    "* What does the following code do?\n",
    "* How is `y.backward()` different from `r2.backward()`?"
   ]
  },
  {
   "cell_type": "code",
   "execution_count": null,
   "metadata": {},
   "outputs": [],
   "source": [
    "x=torch.tensor(5, requires_grad=True, dtype=torch.float32)\n",
    "z=torch.tensor(3, requires_grad=True, dtype=torch.float32)\n",
    "\n",
    "r1=x*x + z + torch.log(z) \n",
    "r2=r1+torch.sqrt(x)  \n",
    "r3=100*r1+torch.log(r2)\n",
    "y=r1+r2+r3\n",
    "\n",
    "r2.backward()\n",
    "\n",
    "print(x.grad, z.grad)"
   ]
  }
 ],
 "metadata": {
  "kernelspec": {
   "display_name": "Python 3",
   "language": "python",
   "name": "python3"
  },
  "language_info": {
   "codemirror_mode": {
    "name": "ipython",
    "version": 3
   },
   "file_extension": ".py",
   "mimetype": "text/x-python",
   "name": "python",
   "nbconvert_exporter": "python",
   "pygments_lexer": "ipython3",
   "version": "3.7.3"
  }
 },
 "nbformat": 4,
 "nbformat_minor": 2
}
