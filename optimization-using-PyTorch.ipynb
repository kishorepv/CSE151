{
 "cells": [
  {
   "cell_type": "markdown",
   "metadata": {},
   "source": [
    "### optimize using PyTorch"
   ]
  },
  {
   "cell_type": "code",
   "execution_count": 1,
   "metadata": {},
   "outputs": [],
   "source": [
    "%matplotlib inline"
   ]
  },
  {
   "cell_type": "code",
   "execution_count": 2,
   "metadata": {},
   "outputs": [],
   "source": [
    "import torch\n",
    "from matplotlib import pyplot as plt\n",
    "\n",
    "from data_generator import magic_function # function to create the dataset"
   ]
  },
  {
   "cell_type": "code",
   "execution_count": 3,
   "metadata": {},
   "outputs": [
    {
     "data": {
      "text/plain": [
       "'1.1.0'"
      ]
     },
     "execution_count": 3,
     "metadata": {},
     "output_type": "execute_result"
    }
   ],
   "source": [
    "torch.__version__ # notebook run on version '1.1.0'"
   ]
  },
  {
   "cell_type": "code",
   "execution_count": 4,
   "metadata": {},
   "outputs": [],
   "source": [
    "def genereate_X_y(N):\n",
    "    \"\"\"\n",
    "        generates `N` samples of data\n",
    "    \"\"\"\n",
    "    Xs=[]\n",
    "    ys=[]\n",
    "    for _ in range(N):\n",
    "        x=torch.randn(1).item()\n",
    "        x_sq=x**2\n",
    "        Xs.append((x,x_sq))\n",
    "        y=magic_function(x) # we dont know the relation between x and y\n",
    "        ys.append(y) \n",
    "    # create tensors from the data\n",
    "    X=torch.tensor(Xs, dtype=torch.float32)\n",
    "    Y=torch.tensor(ys, dtype=torch.float32)\n",
    "    return X,Y"
   ]
  },
  {
   "cell_type": "code",
   "execution_count": 5,
   "metadata": {},
   "outputs": [],
   "source": [
    "X,Y=genereate_X_y(1000)"
   ]
  },
  {
   "cell_type": "code",
   "execution_count": 6,
   "metadata": {},
   "outputs": [
    {
     "data": {
      "text/plain": [
       "(torch.Size([1000, 2]), torch.Size([1000]))"
      ]
     },
     "execution_count": 6,
     "metadata": {},
     "output_type": "execute_result"
    }
   ],
   "source": [
    "X.shape, Y.shape"
   ]
  },
  {
   "cell_type": "code",
   "execution_count": 7,
   "metadata": {},
   "outputs": [
    {
     "data": {
      "text/plain": [
       "tensor([[-0.8934,  0.7981],\n",
       "        [ 0.1483,  0.0220],\n",
       "        [-0.7897,  0.6236],\n",
       "        [ 0.5132,  0.2633],\n",
       "        [ 0.5519,  0.3045]])"
      ]
     },
     "metadata": {},
     "output_type": "display_data"
    },
    {
     "data": {
      "text/plain": [
       "tensor([-2.5374, -1.2281, -2.5432, -0.0511,  0.0956])"
      ]
     },
     "metadata": {},
     "output_type": "display_data"
    }
   ],
   "source": [
    "# few entries from the data\n",
    "display(X[:5], Y[:5])"
   ]
  },
  {
   "cell_type": "code",
   "execution_count": 8,
   "metadata": {},
   "outputs": [],
   "source": [
    "# unknowns/parameters/weights that we will learn\n",
    "a=torch.randn((1,), requires_grad=True)\n",
    "b=torch.randn((1,), requires_grad=True)\n",
    "c=torch.randn((1,), requires_grad=True)"
   ]
  },
  {
   "cell_type": "code",
   "execution_count": 9,
   "metadata": {},
   "outputs": [
    {
     "name": "stdout",
     "output_type": "stream",
     "text": [
      "Initial parameter values:\n",
      " a: -1.9163,\n",
      " b: -0.0429,\n",
      " c: -2.0980\n"
     ]
    }
   ],
   "source": [
    "print(f\"Initial parameter values:\\n a: {a.item():.4f},\\n b: {b.item():.4f},\\n c: {c.item():.4f}\")"
   ]
  },
  {
   "cell_type": "code",
   "execution_count": 10,
   "metadata": {},
   "outputs": [],
   "source": [
    "# PyTorch optimizer\n",
    "optimizer=torch.optim.SGD(params=[a,b,c], lr=1e-5)\n",
    "#optimizer=torch.optim.Adam(params=[a,b,c], lr=1e-5)"
   ]
  },
  {
   "cell_type": "code",
   "execution_count": 11,
   "metadata": {},
   "outputs": [],
   "source": [
    "# optimization procedure1 - run `n_iterations` of the optimization \n",
    "n_iterations=1000\n",
    "losses=[]\n",
    "for i in range(n_iterations):\n",
    "    x,x_sq,y=X[:,0],X[:,1],Y\n",
    "    guess=a*x_sq+b*x+c\n",
    "    loss=torch.matmul(guess-y, guess-y).mean() # calculate the loss\n",
    "    optimizer.zero_grad() # housekeeping\n",
    "    loss.backward() # calculate the gradients\n",
    "    optimizer.step() # update the parameters\n",
    "    losses.append(loss.item())"
   ]
  },
  {
   "cell_type": "code",
   "execution_count": 12,
   "metadata": {},
   "outputs": [
    {
     "name": "stdout",
     "output_type": "stream",
     "text": [
      "Final parameter values (after 1000 iterations):\n",
      " a: 1.4000,\n",
      " b: 2.3000,\n",
      " c: -1.6000\n"
     ]
    }
   ],
   "source": [
    "print(f\"Final parameter values (after {n_iterations} iterations):\\n a: {a.item():.4f},\\n b: {b.item():.4f},\\n c: {c.item():.4f}\")"
   ]
  },
  {
   "cell_type": "code",
   "execution_count": 13,
   "metadata": {},
   "outputs": [
    {
     "name": "stdout",
     "output_type": "stream",
     "text": [
      "Initial loss: 49656.9297, final loss:0.0000\n"
     ]
    }
   ],
   "source": [
    "print(f\"Initial loss: {losses[0]:.4f}, final loss:{losses[-1]:.4f}\")"
   ]
  },
  {
   "cell_type": "code",
   "execution_count": 14,
   "metadata": {},
   "outputs": [
    {
     "data": {
      "image/png": "[encoded data removed]",
      "text/plain": [
       "<Figure size 432x288 with 1 Axes>"
      ]
     },
     "metadata": {
      "needs_background": "light"
     },
     "output_type": "display_data"
    }
   ],
   "source": [
    "plt.plot(losses)\n",
    "plt.xlabel(\"Iteration\")\n",
    "plt.ylabel(\"Loss\")\n",
    "plt.title(\"Loss plot\");"
   ]
  },
  {
   "cell_type": "code",
   "execution_count": 15,
   "metadata": {},
   "outputs": [
    {
     "data": {
      "image/png": "[encoded data removed]",
      "text/plain": [
       "<Figure size 432x288 with 1 Axes>"
      ]
     },
     "metadata": {
      "needs_background": "light"
     },
     "output_type": "display_data"
    }
   ],
   "source": [
    "plt.plot(X[:,0].tolist(),Y.tolist(), 'b.');"
   ]
  },
  {
   "cell_type": "markdown",
   "metadata": {},
   "source": [
    "### looking under the hood\n",
    "We remove the optimizer provided by PyTorch and do the computation ourselves"
   ]
  },
  {
   "cell_type": "code",
   "execution_count": 16,
   "metadata": {},
   "outputs": [],
   "source": [
    "%matplotlib inline"
   ]
  },
  {
   "cell_type": "code",
   "execution_count": 17,
   "metadata": {},
   "outputs": [],
   "source": [
    "import torch\n",
    "from matplotlib import pyplot as plt\n",
    "\n",
    "from data_generator import magic_function # function to create the dataset"
   ]
  },
  {
   "cell_type": "code",
   "execution_count": 18,
   "metadata": {},
   "outputs": [],
   "source": [
    "def genereate_X_y(N):\n",
    "    \"\"\"\n",
    "        generates `N` samples of data\n",
    "    \"\"\"\n",
    "    Xs=[]\n",
    "    ys=[]\n",
    "    for _ in range(N):\n",
    "        x=torch.randn(1).item()\n",
    "        x_sq=x**2\n",
    "        Xs.append((x,x_sq))\n",
    "        y=magic_function(x) # we dont know the relation between x and y\n",
    "        ys.append(y) \n",
    "    # create tensors from the data\n",
    "    X=torch.tensor(Xs, dtype=torch.float32)\n",
    "    Y=torch.tensor(ys, dtype=torch.float32)\n",
    "    return X,Y"
   ]
  },
  {
   "cell_type": "code",
   "execution_count": 19,
   "metadata": {},
   "outputs": [],
   "source": [
    "X,Y=genereate_X_y(1000)"
   ]
  },
  {
   "cell_type": "code",
   "execution_count": 20,
   "metadata": {},
   "outputs": [
    {
     "data": {
      "text/plain": [
       "(torch.Size([1000, 2]), torch.Size([1000]))"
      ]
     },
     "execution_count": 20,
     "metadata": {},
     "output_type": "execute_result"
    }
   ],
   "source": [
    "X.shape, Y.shape"
   ]
  },
  {
   "cell_type": "code",
   "execution_count": 21,
   "metadata": {},
   "outputs": [
    {
     "data": {
      "text/plain": [
       "tensor([[ 0.3166,  0.1002],\n",
       "        [ 0.1616,  0.0261],\n",
       "        [ 0.7635,  0.5829],\n",
       "        [-1.0619,  1.1276],\n",
       "        [-0.0935,  0.0087]])"
      ]
     },
     "metadata": {},
     "output_type": "display_data"
    },
    {
     "data": {
      "text/plain": [
       "tensor([-0.7316, -1.1918,  0.9720, -2.4637, -1.8028])"
      ]
     },
     "metadata": {},
     "output_type": "display_data"
    }
   ],
   "source": [
    "# few entries from the data\n",
    "display(X[:5], Y[:5])"
   ]
  },
  {
   "cell_type": "code",
   "execution_count": 22,
   "metadata": {},
   "outputs": [],
   "source": [
    "# unknowns/parameters/weights that we will learn\n",
    "a=torch.randn((1,), requires_grad=True)\n",
    "b=torch.randn((1,), requires_grad=True)\n",
    "c=torch.randn((1,), requires_grad=True)"
   ]
  },
  {
   "cell_type": "code",
   "execution_count": 23,
   "metadata": {},
   "outputs": [
    {
     "name": "stdout",
     "output_type": "stream",
     "text": [
      "Initial parameter values:\n",
      " a: -0.9182,\n",
      " b: -0.7094,\n",
      " c: -0.3575\n"
     ]
    }
   ],
   "source": [
    "print(f\"Initial parameter values:\\n a: {a.item():.4f},\\n b: {b.item():.4f},\\n c: {c.item():.4f}\")"
   ]
  },
  {
   "cell_type": "code",
   "execution_count": 24,
   "metadata": {},
   "outputs": [],
   "source": [
    "def optimize_weights(loss, weights, lr):\n",
    "    \"\"\"\n",
    "        compute gradients and update the weights\n",
    "    \"\"\"\n",
    "    a,b,c=weights\n",
    "    # below is what optimizer.zero_grad() does\n",
    "    a.grad=None\n",
    "    b.grad=None\n",
    "    c.grad=None\n",
    "    \n",
    "    loss.backward() # calculate the gradients\n",
    "    \n",
    "    # below is what optimizer.step() does\n",
    "    \n",
    "    a.data=a.data-lr*a.grad\n",
    "    b.data=b.data-lr*b.grad\n",
    "    c.data=c.data-lr*c.grad"
   ]
  },
  {
   "cell_type": "code",
   "execution_count": 25,
   "metadata": {},
   "outputs": [],
   "source": [
    "# optimization procedure2 - run `n_iterations` of the optimization \n",
    "n_iterations=1000\n",
    "losses=[]\n",
    "for i in range(n_iterations):\n",
    "    x,x_sq,y=X[:,0],X[:,1],Y\n",
    "    guess=a*x_sq+b*x+c\n",
    "    loss=torch.matmul(guess-y, guess-y).mean() # calculate the loss\n",
    "#     optimizer.zero_grad() # housekeeping\n",
    "#     loss.backward() # calculate the gradients\n",
    "#     optimizer.step() # update the parameters\n",
    "    optimize_weights(loss=loss, weights=[a,b,c], lr=1e-5) # do the parameter update outselves\n",
    "    losses.append(loss.item())"
   ]
  },
  {
   "cell_type": "code",
   "execution_count": 26,
   "metadata": {},
   "outputs": [
    {
     "name": "stdout",
     "output_type": "stream",
     "text": [
      "Final parameter values (after 1000 iterations):\n",
      " a: 1.4000,\n",
      " b: 2.3000,\n",
      " c: -1.6000\n"
     ]
    }
   ],
   "source": [
    "print(f\"Final parameter values (after {n_iterations} iterations):\\n a: {a.item():.4f},\\n b: {b.item():.4f},\\n c: {c.item():.4f}\")"
   ]
  },
  {
   "cell_type": "code",
   "execution_count": 27,
   "metadata": {},
   "outputs": [
    {
     "name": "stdout",
     "output_type": "stream",
     "text": [
      "Initial loss: 20382.8633, final loss:0.0000\n"
     ]
    }
   ],
   "source": [
    "print(f\"Initial loss: {losses[0]:.4f}, final loss:{losses[-1]:.4f}\")"
   ]
  },
  {
   "cell_type": "code",
   "execution_count": 28,
   "metadata": {},
   "outputs": [
    {
     "data": {
      "image/png": "[encoded data removed]",
      "text/plain": [
       "<Figure size 432x288 with 1 Axes>"
      ]
     },
     "metadata": {
      "needs_background": "light"
     },
     "output_type": "display_data"
    }
   ],
   "source": [
    "plt.plot(losses)\n",
    "plt.xlabel(\"Iteration\")\n",
    "plt.ylabel(\"Loss\")\n",
    "plt.title(\"Loss plot\");"
   ]
  },
  {
   "cell_type": "markdown",
   "metadata": {},
   "source": [
    "### homework"
   ]
  },
  {
   "cell_type": "markdown",
   "metadata": {},
   "source": [
    "* Prove to yourself that this optimization works\n",
    "  * You can try changing values of `a`, `b` and `c` (in `magic_function`) and check if optimization procedure1 converges to the correct values\n",
    "* Try using a diffent optimizer\n",
    "  * `Adam` is another optimizer like `SGD`, that is popular. Try using `Adam` instead of `SGD`. You might have to tweak the learning rate\n",
    "* Why do we need `optimizer.zero_grad()`?\n",
    "  * Comment it out and run optimization procedure1. Will you get the right answer for `a`, `b` and `c`?"
   ]
  },
  {
   "cell_type": "markdown",
   "metadata": {},
   "source": [
    "### playing around using the debugger (`pdb`)\n",
    "Here we will use Python's debugger (`pdb`) to execute line by line and confirm what line does"
   ]
  },
  {
   "cell_type": "markdown",
   "metadata": {},
   "source": [
    "**`pdb` (Python Debugger) cheatsheet**\n",
    "* `pdb.set_trace()` - put this in your code where you want to start debugging (You will have to `import pdb` first)\n",
    "* `n(ext)` - next line\n",
    "* `c(ontinue)` - run till the next breakpoint\n",
    "* `l` - list source code around current line\n",
    "* `h` - help\n",
    "* `q` - quit the debugger"
   ]
  },
  {
   "cell_type": "code",
   "execution_count": 29,
   "metadata": {},
   "outputs": [],
   "source": [
    "%matplotlib inline"
   ]
  },
  {
   "cell_type": "code",
   "execution_count": 30,
   "metadata": {},
   "outputs": [],
   "source": [
    "import torch\n",
    "from matplotlib import pyplot as plt\n",
    "\n",
    "import pdb # Python Debugger\n",
    "\n",
    "from data_generator import magic_function # function to create the dataset"
   ]
  },
  {
   "cell_type": "code",
   "execution_count": 31,
   "metadata": {},
   "outputs": [],
   "source": [
    "def genereate_X_y(N):\n",
    "    \"\"\"\n",
    "        generates `N` samples of data\n",
    "    \"\"\"\n",
    "    Xs=[]\n",
    "    ys=[]\n",
    "    for _ in range(N):\n",
    "        x=torch.randn(1).item()\n",
    "        x_sq=x**2\n",
    "        Xs.append((x,x_sq))\n",
    "        y=magic_function(x) # we dont know the relation between x and y\n",
    "        ys.append(y) \n",
    "    # create tensors from the data\n",
    "    X=torch.tensor(Xs, dtype=torch.float32)\n",
    "    Y=torch.tensor(ys, dtype=torch.float32)\n",
    "    return X,Y"
   ]
  },
  {
   "cell_type": "code",
   "execution_count": 32,
   "metadata": {},
   "outputs": [],
   "source": [
    "X,Y=genereate_X_y(1000)"
   ]
  },
  {
   "cell_type": "code",
   "execution_count": 33,
   "metadata": {},
   "outputs": [
    {
     "data": {
      "text/plain": [
       "(torch.Size([1000, 2]), torch.Size([1000]))"
      ]
     },
     "execution_count": 33,
     "metadata": {},
     "output_type": "execute_result"
    }
   ],
   "source": [
    "X.shape, Y.shape"
   ]
  },
  {
   "cell_type": "code",
   "execution_count": 34,
   "metadata": {},
   "outputs": [
    {
     "data": {
      "text/plain": [
       "tensor([[ 0.2782,  0.0774],\n",
       "        [-0.8860,  0.7850],\n",
       "        [ 1.8827,  3.5447],\n",
       "        [ 0.7893,  0.6230],\n",
       "        [-1.1781,  1.3880]])"
      ]
     },
     "metadata": {},
     "output_type": "display_data"
    },
    {
     "data": {
      "text/plain": [
       "tensor([-0.8519, -2.5388,  7.6928,  1.0875, -2.3665])"
      ]
     },
     "metadata": {},
     "output_type": "display_data"
    }
   ],
   "source": [
    "# few entries from the data\n",
    "display(X[:5], Y[:5])"
   ]
  },
  {
   "cell_type": "code",
   "execution_count": 35,
   "metadata": {},
   "outputs": [],
   "source": [
    "# unknowns/parameters/weights that we will learn\n",
    "a=torch.randn((1,), requires_grad=True)\n",
    "b=torch.randn((1,), requires_grad=True)\n",
    "c=torch.randn((1,), requires_grad=True)"
   ]
  },
  {
   "cell_type": "code",
   "execution_count": 36,
   "metadata": {},
   "outputs": [
    {
     "name": "stdout",
     "output_type": "stream",
     "text": [
      "Initial parameter values:\n",
      " a: -1.6333,\n",
      " b: 0.5439,\n",
      " c: 1.2220\n"
     ]
    }
   ],
   "source": [
    "print(f\"Initial parameter values:\\n a: {a.item():.4f},\\n b: {b.item():.4f},\\n c: {c.item():.4f}\")"
   ]
  },
  {
   "cell_type": "code",
   "execution_count": 37,
   "metadata": {},
   "outputs": [],
   "source": [
    "# PyTorch optimizer\n",
    "optimizer=torch.optim.SGD(params=[a,b,c], lr=1e-5)\n",
    "#optimizer=torch.optim.Adam(params=[a,b,c], lr=1e-5)"
   ]
  },
  {
   "cell_type": "code",
   "execution_count": 38,
   "metadata": {
    "scrolled": false
   },
   "outputs": [],
   "source": [
    "# optimization procedure1 - run `n_iterations` of the optimization \n",
    "n_iterations=1000\n",
    "losses=[]\n",
    "for i in range(n_iterations):\n",
    "    # pdb.set_trace() # uncomment this to set a breakpoint here\n",
    "    x,x_sq,y=X[:,0],X[:,1],Y\n",
    "    guess=a*x_sq+b*x+c\n",
    "    loss=torch.matmul(guess-y, guess-y).mean() # calculate the loss\n",
    "    optimizer.zero_grad() # housekeeping\n",
    "    loss.backward() # calculate the gradients\n",
    "    optimizer.step() # update the parameters\n",
    "    losses.append(loss.item())"
   ]
  },
  {
   "cell_type": "code",
   "execution_count": 39,
   "metadata": {},
   "outputs": [
    {
     "name": "stdout",
     "output_type": "stream",
     "text": [
      "Final parameter values (after 1000 iterations):\n",
      " a: 1.4000,\n",
      " b: 2.3000,\n",
      " c: -1.6000\n"
     ]
    }
   ],
   "source": [
    "print(f\"Final parameter values (after {n_iterations} iterations):\\n a: {a.item():.4f},\\n b: {b.item():.4f},\\n c: {c.item():.4f}\")"
   ]
  },
  {
   "cell_type": "code",
   "execution_count": 40,
   "metadata": {},
   "outputs": [
    {
     "name": "stdout",
     "output_type": "stream",
     "text": [
      "Initial loss: 21927.5859, final loss:0.0000\n"
     ]
    }
   ],
   "source": [
    "print(f\"Initial loss: {losses[0]:.4f}, final loss:{losses[-1]:.4f}\")"
   ]
  },
  {
   "cell_type": "code",
   "execution_count": 41,
   "metadata": {},
   "outputs": [
    {
     "data": {
      "image/png": "[encoded data removed]",
      "text/plain": [
       "<Figure size 432x288 with 1 Axes>"
      ]
     },
     "metadata": {
      "needs_background": "light"
     },
     "output_type": "display_data"
    }
   ],
   "source": [
    "plt.plot(losses)\n",
    "plt.xlabel(\"Iteration\")\n",
    "plt.ylabel(\"Loss\")\n",
    "plt.title(\"Loss plot\");"
   ]
  },
  {
   "cell_type": "code",
   "execution_count": 42,
   "metadata": {},
   "outputs": [
    {
     "data": {
      "image/png": "[encoded data removed]",
      "text/plain": [
       "<Figure size 432x288 with 1 Axes>"
      ]
     },
     "metadata": {
      "needs_background": "light"
     },
     "output_type": "display_data"
    }
   ],
   "source": [
    "plt.plot(X[:,0].tolist(),Y.tolist(), 'b.');"
   ]
  },
  {
   "cell_type": "code",
   "execution_count": null,
   "metadata": {},
   "outputs": [],
   "source": []
  }
 ],
 "metadata": {
  "kernelspec": {
   "display_name": "Python 3",
   "language": "python",
   "name": "python3"
  },
  "language_info": {
   "codemirror_mode": {
    "name": "ipython",
    "version": 3
   },
   "file_extension": ".py",
   "mimetype": "text/x-python",
   "name": "python",
   "nbconvert_exporter": "python",
   "pygments_lexer": "ipython3",
   "version": "3.7.3"
  }
 },
 "nbformat": 4,
 "nbformat_minor": 2
}
